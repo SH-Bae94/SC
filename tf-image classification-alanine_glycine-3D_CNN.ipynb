{
 "cells": [
  {
   "cell_type": "code",
   "execution_count": 12,
   "metadata": {},
   "outputs": [],
   "source": [
    "from __future__ import absolute_import, division, print_function, unicode_literals\n",
    "import tensorflow as tf\n",
    "from tensorflow.keras.models import Sequential\n",
    "from tensorflow.keras.layers import Dense, Conv2D, Flatten, Dropout, MaxPooling2D, Conv3D, MaxPooling3D\n",
    "from tensorflow.keras.preprocessing.image import ImageDataGenerator\n",
    "\n",
    "import os\n",
    "import numpy as np\n",
    "import matplotlib.pyplot as plt"
   ]
  },
  {
   "cell_type": "code",
   "execution_count": 2,
   "metadata": {},
   "outputs": [],
   "source": [
    "PATH = 'alanine_and_glycine_filtered'"
   ]
  },
  {
   "cell_type": "code",
   "execution_count": 3,
   "metadata": {},
   "outputs": [],
   "source": [
    "train_dir = os.path.join(PATH, 'train')\n",
    "validation_dir = os.path.join(PATH, 'validation')"
   ]
  },
  {
   "cell_type": "code",
   "execution_count": 4,
   "metadata": {},
   "outputs": [],
   "source": [
    "train_0_dir = os.path.join(train_dir, 'alanine')  \n",
    "train_1_dir = os.path.join(train_dir, 'glycine')  \n",
    "validation_0_dir = os.path.join(validation_dir, 'alanine') \n",
    "validation_1_dir = os.path.join(validation_dir, 'glycine') "
   ]
  },
  {
   "cell_type": "code",
   "execution_count": 5,
   "metadata": {},
   "outputs": [],
   "source": [
    "num_0_tr = len(os.listdir(train_0_dir))\n",
    "num_1_tr = len(os.listdir(train_1_dir))\n",
    "\n",
    "num_0_val = len(os.listdir(validation_0_dir))\n",
    "num_1_val = len(os.listdir(validation_1_dir))\n",
    "\n",
    "total_train = num_0_tr + num_1_tr\n",
    "total_val = num_0_val + num_1_val"
   ]
  },
  {
   "cell_type": "code",
   "execution_count": 6,
   "metadata": {},
   "outputs": [
    {
     "name": "stdout",
     "output_type": "stream",
     "text": [
      "total training alanine images: 720\n",
      "total training glycine images: 720\n",
      "total validation alanine images: 360\n",
      "total validation glycine images: 360\n",
      "--\n",
      "Total training images: 1440\n",
      "Total validation images: 720\n"
     ]
    }
   ],
   "source": [
    "print('total training alanine images:', num_0_tr)\n",
    "print('total training glycine images:', num_1_tr)\n",
    "\n",
    "print('total validation alanine images:', num_0_val)\n",
    "print('total validation glycine images:', num_1_val)\n",
    "print(\"--\")\n",
    "print(\"Total training images:\", total_train)\n",
    "print(\"Total validation images:\", total_val)"
   ]
  },
  {
   "cell_type": "code",
   "execution_count": 7,
   "metadata": {},
   "outputs": [],
   "source": [
    "batch_size = 64\n",
    "epochs = 15\n",
    "IMG_HEIGHT = 25\n",
    "IMG_WIDTH = 25\n",
    "IMG_DEPTH = 25"
   ]
  },
  {
   "cell_type": "code",
   "execution_count": 8,
   "metadata": {},
   "outputs": [],
   "source": [
    "train_image_generator = ImageDataGenerator(rescale=1./255) \n",
    "validation_image_generator = ImageDataGenerator(rescale=1./255) "
   ]
  },
  {
   "cell_type": "code",
   "execution_count": 9,
   "metadata": {},
   "outputs": [
    {
     "name": "stdout",
     "output_type": "stream",
     "text": [
      "Found 1440 images belonging to 2 classes.\n"
     ]
    }
   ],
   "source": [
    "train_data_gen = train_image_generator.flow_from_directory(batch_size=batch_size,\n",
    "                                                           directory=train_dir,\n",
    "                                                           shuffle=True,\n",
    "                                                           target_size=(IMG_HEIGHT, IMG_WIDTH, IMG_DEPTH),\n",
    "                                                           class_mode='binary')"
   ]
  },
  {
   "cell_type": "code",
   "execution_count": 10,
   "metadata": {},
   "outputs": [
    {
     "name": "stdout",
     "output_type": "stream",
     "text": [
      "Found 720 images belonging to 2 classes.\n"
     ]
    }
   ],
   "source": [
    "val_data_gen = validation_image_generator.flow_from_directory(batch_size=batch_size,\n",
    "                                                              directory=validation_dir,\n",
    "                                                              target_size=(IMG_HEIGHT, IMG_WIDTH, IMG_DEPTH),\n",
    "                                                              class_mode='binary')"
   ]
  },
  {
   "cell_type": "code",
   "execution_count": 11,
   "metadata": {},
   "outputs": [],
   "source": [
    "sample_training_images, _ = next(train_data_gen)"
   ]
  },
  {
   "cell_type": "code",
   "execution_count": 25,
   "metadata": {},
   "outputs": [],
   "source": [
    "def plotImages(images_arr):\n",
    "    fig, axes = plt.subplots(1, 5, figsize=(20,20))\n",
    "    axes = axes.flatten()\n",
    "    for img, ax in zip( images_arr, axes):\n",
    "        ax.imshow(img)\n",
    "        ax.axis('off')\n",
    "    plt.tight_layout()\n",
    "    plt.show()"
   ]
  },
  {
   "cell_type": "code",
   "execution_count": 26,
   "metadata": {},
   "outputs": [],
   "source": [
    "def plotImages(images_arr):\n",
    "    fig, axes = plt.subplots(1, 5, figsize=(20,20))\n",
    "    axes = axes.flatten()\n",
    "    for img, ax in zip( images_arr, axes):\n",
    "        ax.imshow(img)\n",
    "        ax.axis('off')\n",
    "    plt.tight_layout()\n",
    "    plt.show()"
   ]
  },
  {
   "cell_type": "code",
   "execution_count": 16,
   "metadata": {},
   "outputs": [
    {
     "name": "stdout",
     "output_type": "stream",
     "text": [
      "WARNING:tensorflow:From C:\\Users\\BSH\\Anaconda3\\lib\\site-packages\\tensorflow\\python\\ops\\resource_variable_ops.py:435: colocate_with (from tensorflow.python.framework.ops) is deprecated and will be removed in a future version.\n",
      "Instructions for updating:\n",
      "Colocations handled automatically by placer.\n"
     ]
    }
   ],
   "source": [
    "model = Sequential([\n",
    "    Conv3D(16, 3, padding='same', activation='relu', input_shape=(IMG_HEIGHT, IMG_WIDTH, IMG_DEPTH ,3)),\n",
    "    MaxPooling3D(),\n",
    "    Conv3D(32, 3, padding='same', activation='relu'),\n",
    "    MaxPooling3D(),\n",
    "    Conv3D(64, 3, padding='same', activation='relu'),\n",
    "    MaxPooling3D(),\n",
    "    Flatten(),\n",
    "    Dense(512, activation='relu'),\n",
    "    Dense(1, activation='sigmoid')\n",
    "])"
   ]
  },
  {
   "cell_type": "code",
   "execution_count": 17,
   "metadata": {},
   "outputs": [],
   "source": [
    "model.compile(optimizer='adam',\n",
    "              loss='binary_crossentropy',\n",
    "              metrics=['accuracy'])"
   ]
  },
  {
   "cell_type": "code",
   "execution_count": 18,
   "metadata": {},
   "outputs": [
    {
     "name": "stdout",
     "output_type": "stream",
     "text": [
      "_________________________________________________________________\n",
      "Layer (type)                 Output Shape              Param #   \n",
      "=================================================================\n",
      "conv3d (Conv3D)              (None, 25, 25, 25, 16)    1312      \n",
      "_________________________________________________________________\n",
      "max_pooling3d (MaxPooling3D) (None, 12, 12, 12, 16)    0         \n",
      "_________________________________________________________________\n",
      "conv3d_1 (Conv3D)            (None, 12, 12, 12, 32)    13856     \n",
      "_________________________________________________________________\n",
      "max_pooling3d_1 (MaxPooling3 (None, 6, 6, 6, 32)       0         \n",
      "_________________________________________________________________\n",
      "conv3d_2 (Conv3D)            (None, 6, 6, 6, 64)       55360     \n",
      "_________________________________________________________________\n",
      "max_pooling3d_2 (MaxPooling3 (None, 3, 3, 3, 64)       0         \n",
      "_________________________________________________________________\n",
      "flatten (Flatten)            (None, 1728)              0         \n",
      "_________________________________________________________________\n",
      "dense (Dense)                (None, 512)               885248    \n",
      "_________________________________________________________________\n",
      "dense_1 (Dense)              (None, 1)                 513       \n",
      "=================================================================\n",
      "Total params: 956,289\n",
      "Trainable params: 956,289\n",
      "Non-trainable params: 0\n",
      "_________________________________________________________________\n"
     ]
    }
   ],
   "source": [
    "model.summary()"
   ]
  },
  {
   "cell_type": "code",
   "execution_count": 19,
   "metadata": {},
   "outputs": [
    {
     "name": "stdout",
     "output_type": "stream",
     "text": [
      "WARNING:tensorflow:From C:\\Users\\BSH\\Anaconda3\\lib\\site-packages\\tensorflow\\python\\ops\\math_ops.py:3066: to_int32 (from tensorflow.python.ops.math_ops) is deprecated and will be removed in a future version.\n",
      "Instructions for updating:\n",
      "Use tf.cast instead.\n",
      "Epoch 1/15\n",
      "12/12 [==============================] - 5s 388ms/step - loss: 4.6659e-05 - acc: 1.0000\n",
      "23/23 [==============================] - 29s 1s/step - loss: 0.2895 - acc: 0.9042 - val_loss: 4.6659e-05 - val_acc: 1.0000\n",
      "Epoch 2/15\n",
      "12/12 [==============================] - 4s 372ms/step - loss: 1.0960e-07 - acc: 1.0000\n",
      "23/23 [==============================] - 29s 1s/step - loss: 3.8464e-06 - acc: 1.0000 - val_loss: 1.0960e-07 - val_acc: 1.0000\n",
      "Epoch 3/15\n",
      "12/12 [==============================] - 5s 375ms/step - loss: 1.0968e-07 - acc: 1.0000\n",
      "23/23 [==============================] - 28s 1s/step - loss: 1.0960e-07 - acc: 1.0000 - val_loss: 1.0968e-07 - val_acc: 1.0000\n",
      "Epoch 4/15\n",
      "12/12 [==============================] - 4s 371ms/step - loss: 1.0938e-07 - acc: 1.0000\n",
      "23/23 [==============================] - 28s 1s/step - loss: 1.0959e-07 - acc: 1.0000 - val_loss: 1.0938e-07 - val_acc: 1.0000\n",
      "Epoch 5/15\n",
      "12/12 [==============================] - 5s 383ms/step - loss: 1.0953e-07 - acc: 1.0000\n",
      "23/23 [==============================] - 28s 1s/step - loss: 1.0952e-07 - acc: 1.0000 - val_loss: 1.0953e-07 - val_acc: 1.0000\n",
      "Epoch 6/15\n",
      "12/12 [==============================] - 5s 376ms/step - loss: 1.0960e-07 - acc: 1.0000\n",
      "23/23 [==============================] - 28s 1s/step - loss: 1.0959e-07 - acc: 1.0000 - val_loss: 1.0960e-07 - val_acc: 1.0000\n",
      "Epoch 7/15\n",
      "12/12 [==============================] - 5s 379ms/step - loss: 1.0960e-07 - acc: 1.0000\n",
      "23/23 [==============================] - 28s 1s/step - loss: 1.0965e-07 - acc: 1.0000 - val_loss: 1.0960e-07 - val_acc: 1.0000\n",
      "Epoch 8/15\n",
      "12/12 [==============================] - 4s 375ms/step - loss: 1.0960e-07 - acc: 1.0000\n",
      "23/23 [==============================] - 28s 1s/step - loss: 1.0960e-07 - acc: 1.0000 - val_loss: 1.0960e-07 - val_acc: 1.0000\n",
      "Epoch 9/15\n",
      "12/12 [==============================] - 5s 377ms/step - loss: 1.0975e-07 - acc: 1.0000\n",
      "23/23 [==============================] - 28s 1s/step - loss: 1.0962e-07 - acc: 1.0000 - val_loss: 1.0975e-07 - val_acc: 1.0000\n",
      "Epoch 10/15\n",
      "12/12 [==============================] - 4s 373ms/step - loss: 1.0968e-07 - acc: 1.0000\n",
      "23/23 [==============================] - 28s 1s/step - loss: 1.0957e-07 - acc: 1.0000 - val_loss: 1.0968e-07 - val_acc: 1.0000\n",
      "Epoch 11/15\n",
      "12/12 [==============================] - 5s 394ms/step - loss: 1.0938e-07 - acc: 1.0000\n",
      "23/23 [==============================] - 29s 1s/step - loss: 1.0959e-07 - acc: 1.0000 - val_loss: 1.0938e-07 - val_acc: 1.0000\n",
      "Epoch 12/15\n",
      "12/12 [==============================] - 5s 432ms/step - loss: 1.0953e-07 - acc: 1.0000\n",
      "23/23 [==============================] - 30s 1s/step - loss: 1.0957e-07 - acc: 1.0000 - val_loss: 1.0953e-07 - val_acc: 1.0000\n",
      "Epoch 13/15\n",
      "12/12 [==============================] - 5s 391ms/step - loss: 1.0968e-07 - acc: 1.0000\n",
      "23/23 [==============================] - 30s 1s/step - loss: 1.0967e-07 - acc: 1.0000 - val_loss: 1.0968e-07 - val_acc: 1.0000\n",
      "Epoch 14/15\n",
      "12/12 [==============================] - 5s 377ms/step - loss: 1.0960e-07 - acc: 1.0000\n",
      "23/23 [==============================] - 29s 1s/step - loss: 1.0965e-07 - acc: 1.0000 - val_loss: 1.0960e-07 - val_acc: 1.0000\n",
      "Epoch 15/15\n",
      "12/12 [==============================] - 5s 377ms/step - loss: 1.0945e-07 - acc: 1.0000\n",
      "23/23 [==============================] - 28s 1s/step - loss: 1.0960e-07 - acc: 1.0000 - val_loss: 1.0945e-07 - val_acc: 1.0000\n"
     ]
    }
   ],
   "source": [
    "history = model.fit_generator(\n",
    "    train_data_gen,\n",
    "    steps_per_epoch=total_train // batch_size,\n",
    "    epochs=epochs,\n",
    "    validation_data=val_data_gen,\n",
    "    validation_steps=total_val // batch_size\n",
    ")"
   ]
  },
  {
   "cell_type": "code",
   "execution_count": 20,
   "metadata": {},
   "outputs": [
    {
     "data": {
      "image/png": "[encoded data removed]",
      "text/plain": [
       "<Figure size 576x576 with 2 Axes>"
      ]
     },
     "metadata": {
      "needs_background": "light"
     },
     "output_type": "display_data"
    }
   ],
   "source": [
    "acc = history.history['acc']\n",
    "val_acc = history.history['val_acc']\n",
    "\n",
    "loss = history.history['loss']\n",
    "val_loss = history.history['val_loss']\n",
    "\n",
    "epochs_range = range(epochs)\n",
    "\n",
    "plt.figure(figsize=(8, 8))\n",
    "plt.subplot(1, 2, 1)\n",
    "plt.plot(epochs_range, acc, label='Training Accuracy')\n",
    "plt.plot(epochs_range, val_acc, label='Validation Accuracy')\n",
    "plt.legend(loc='lower right')\n",
    "plt.title('Training and Validation Accuracy')\n",
    "\n",
    "plt.subplot(1, 2, 2)\n",
    "plt.plot(epochs_range, loss, label='Training Loss')\n",
    "plt.plot(epochs_range, val_loss, label='Validation Loss')\n",
    "plt.legend(loc='upper right')\n",
    "plt.title('Training and Validation Loss')\n",
    "plt.show()"
   ]
  },
  {
   "cell_type": "code",
   "execution_count": 21,
   "metadata": {
    "scrolled": true
   },
   "outputs": [
    {
     "name": "stdout",
     "output_type": "stream",
     "text": [
      "[[0 1 0 1 1 1 0 1 1 0]]\n"
     ]
    }
   ],
   "source": [
    "predict_class=model.predict_classes(sample_training_images)\n",
    "print(predict_class[0:10].T)"
   ]
  },
  {
   "cell_type": "code",
   "execution_count": 22,
   "metadata": {},
   "outputs": [
    {
     "data": {
      "text/plain": [
       "array([[0]])"
      ]
     },
     "execution_count": 22,
     "metadata": {},
     "output_type": "execute_result"
    }
   ],
   "source": [
    "model.predict_classes(sample_training_images[:1, :], verbose=0)"
   ]
  },
  {
   "cell_type": "code",
   "execution_count": 24,
   "metadata": {},
   "outputs": [],
   "source": [
    "json_string = model.to_json()\n",
    "open('mnist_cnn_arch.json', 'w').write(json_string)\n",
    "model.save_weights('mnist_cnn_weights.h5', overwrite=True)"
   ]
  },
  {
   "cell_type": "markdown",
   "metadata": {},
   "source": [
    "----------------------------------------------------------------------------------------------------------------------------------------------------------------------"
   ]
  },
  {
   "cell_type": "markdown",
   "metadata": {},
   "source": [
    "데이터 변형을 통해 노이즈 대비"
   ]
  },
  {
   "cell_type": "code",
   "execution_count": 28,
   "metadata": {},
   "outputs": [],
   "source": [
    "image_gen = ImageDataGenerator(rescale=1./255, horizontal_flip=True)"
   ]
  },
  {
   "cell_type": "code",
   "execution_count": 29,
   "metadata": {},
   "outputs": [
    {
     "name": "stdout",
     "output_type": "stream",
     "text": [
      "Found 1440 images belonging to 2 classes.\n"
     ]
    }
   ],
   "source": [
    "train_data_gen = image_gen.flow_from_directory(batch_size=batch_size,\n",
    "                                               directory=train_dir,\n",
    "                                               shuffle=True,\n",
    "                                               target_size=(IMG_HEIGHT, IMG_WIDTH, IMG_DEPTH))"
   ]
  },
  {
   "cell_type": "code",
   "execution_count": 30,
   "metadata": {},
   "outputs": [],
   "source": [
    "augmented_images = [train_data_gen[0][0][0] for i in range(5)]"
   ]
  },
  {
   "cell_type": "code",
   "execution_count": 32,
   "metadata": {},
   "outputs": [],
   "source": [
    "image_gen = ImageDataGenerator(rescale=1./255, rotation_range=45)"
   ]
  },
  {
   "cell_type": "code",
   "execution_count": 33,
   "metadata": {},
   "outputs": [
    {
     "name": "stdout",
     "output_type": "stream",
     "text": [
      "Found 1440 images belonging to 2 classes.\n"
     ]
    }
   ],
   "source": [
    "train_data_gen = image_gen.flow_from_directory(batch_size=batch_size,\n",
    "                                               directory=train_dir,\n",
    "                                               shuffle=True,\n",
    "                                               target_size=(IMG_HEIGHT, IMG_WIDTH, IMG_DEPTH))\n",
    "\n",
    "augmented_images = [train_data_gen[0][0][0] for i in range(5)]"
   ]
  },
  {
   "cell_type": "code",
   "execution_count": 35,
   "metadata": {},
   "outputs": [],
   "source": [
    "image_gen = ImageDataGenerator(rescale=1./255, zoom_range=0.5)"
   ]
  },
  {
   "cell_type": "code",
   "execution_count": 36,
   "metadata": {},
   "outputs": [
    {
     "name": "stdout",
     "output_type": "stream",
     "text": [
      "Found 1440 images belonging to 2 classes.\n"
     ]
    }
   ],
   "source": [
    "train_data_gen = image_gen.flow_from_directory(batch_size=batch_size,\n",
    "                                               directory=train_dir,\n",
    "                                               shuffle=True,\n",
    "                                               target_size=(IMG_HEIGHT, IMG_WIDTH, IMG_DEPTH))\n",
    "\n",
    "augmented_images = [train_data_gen[0][0][0] for i in range(5)]"
   ]
  },
  {
   "cell_type": "code",
   "execution_count": 38,
   "metadata": {},
   "outputs": [],
   "source": [
    "image_gen_train = ImageDataGenerator(\n",
    "                    rescale=1./255,\n",
    "                    rotation_range=45,\n",
    "                    width_shift_range=.15,\n",
    "                    height_shift_range=.15,\n",
    "                    horizontal_flip=True,\n",
    "                    zoom_range=0.5\n",
    "                    )"
   ]
  },
  {
   "cell_type": "code",
   "execution_count": 39,
   "metadata": {},
   "outputs": [
    {
     "name": "stdout",
     "output_type": "stream",
     "text": [
      "Found 1440 images belonging to 2 classes.\n"
     ]
    }
   ],
   "source": [
    "train_data_gen = image_gen_train.flow_from_directory(batch_size=batch_size,\n",
    "                                                     directory=train_dir,\n",
    "                                                     shuffle=True,\n",
    "                                                     target_size=(IMG_HEIGHT, IMG_WIDTH, IMG_DEPTH),\n",
    "                                                     class_mode='binary')"
   ]
  },
  {
   "cell_type": "code",
   "execution_count": 41,
   "metadata": {},
   "outputs": [],
   "source": [
    "augmented_images = [train_data_gen[0][0][0] for i in range(5)]"
   ]
  },
  {
   "cell_type": "code",
   "execution_count": 42,
   "metadata": {},
   "outputs": [],
   "source": [
    "image_gen_val = ImageDataGenerator(rescale=1./255)"
   ]
  },
  {
   "cell_type": "code",
   "execution_count": 43,
   "metadata": {},
   "outputs": [
    {
     "name": "stdout",
     "output_type": "stream",
     "text": [
      "Found 720 images belonging to 2 classes.\n"
     ]
    }
   ],
   "source": [
    "val_data_gen = image_gen_val.flow_from_directory(batch_size=batch_size,\n",
    "                                                 directory=validation_dir,\n",
    "                                                 target_size=(IMG_HEIGHT, IMG_WIDTH, IMG_DEPTH),\n",
    "                                                 class_mode='binary')"
   ]
  },
  {
   "cell_type": "code",
   "execution_count": 44,
   "metadata": {},
   "outputs": [
    {
     "name": "stdout",
     "output_type": "stream",
     "text": [
      "WARNING:tensorflow:From C:\\Users\\BSH\\Anaconda3\\lib\\site-packages\\tensorflow\\python\\keras\\layers\\core.py:143: calling dropout (from tensorflow.python.ops.nn_ops) with keep_prob is deprecated and will be removed in a future version.\n",
      "Instructions for updating:\n",
      "Please use `rate` instead of `keep_prob`. Rate should be set to `rate = 1 - keep_prob`.\n"
     ]
    }
   ],
   "source": [
    "model_new = Sequential([\n",
    "    Conv3D(16, 3, padding='same', activation='relu', \n",
    "        input_shape=(IMG_HEIGHT, IMG_WIDTH, IMG_DEPTH ,3)),\n",
    "    MaxPooling3D(),\n",
    "    Dropout(0.2),\n",
    "    Conv3D(32, 3, padding='same', activation='relu'),\n",
    "    MaxPooling3D(),\n",
    "    Conv3D(64, 3, padding='same', activation='relu'),\n",
    "    MaxPooling3D(),\n",
    "    Dropout(0.2),\n",
    "    Flatten(),\n",
    "    Dense(512, activation='relu'),\n",
    "    Dense(1, activation='sigmoid')\n",
    "])"
   ]
  },
  {
   "cell_type": "code",
   "execution_count": 45,
   "metadata": {},
   "outputs": [
    {
     "name": "stdout",
     "output_type": "stream",
     "text": [
      "_________________________________________________________________\n",
      "Layer (type)                 Output Shape              Param #   \n",
      "=================================================================\n",
      "conv3d_3 (Conv3D)            (None, 25, 25, 25, 16)    1312      \n",
      "_________________________________________________________________\n",
      "max_pooling3d_3 (MaxPooling3 (None, 12, 12, 12, 16)    0         \n",
      "_________________________________________________________________\n",
      "dropout (Dropout)            (None, 12, 12, 12, 16)    0         \n",
      "_________________________________________________________________\n",
      "conv3d_4 (Conv3D)            (None, 12, 12, 12, 32)    13856     \n",
      "_________________________________________________________________\n",
      "max_pooling3d_4 (MaxPooling3 (None, 6, 6, 6, 32)       0         \n",
      "_________________________________________________________________\n",
      "conv3d_5 (Conv3D)            (None, 6, 6, 6, 64)       55360     \n",
      "_________________________________________________________________\n",
      "max_pooling3d_5 (MaxPooling3 (None, 3, 3, 3, 64)       0         \n",
      "_________________________________________________________________\n",
      "dropout_1 (Dropout)          (None, 3, 3, 3, 64)       0         \n",
      "_________________________________________________________________\n",
      "flatten_1 (Flatten)          (None, 1728)              0         \n",
      "_________________________________________________________________\n",
      "dense_2 (Dense)              (None, 512)               885248    \n",
      "_________________________________________________________________\n",
      "dense_3 (Dense)              (None, 1)                 513       \n",
      "=================================================================\n",
      "Total params: 956,289\n",
      "Trainable params: 956,289\n",
      "Non-trainable params: 0\n",
      "_________________________________________________________________\n"
     ]
    }
   ],
   "source": [
    "model_new.compile(optimizer='adam',\n",
    "              loss='binary_crossentropy',\n",
    "              metrics=['accuracy'])\n",
    "\n",
    "model_new.summary()"
   ]
  },
  {
   "cell_type": "code",
   "execution_count": 46,
   "metadata": {},
   "outputs": [
    {
     "name": "stdout",
     "output_type": "stream",
     "text": [
      "Epoch 1/15\n",
      "12/12 [==============================] - 4s 373ms/step - loss: 0.6928 - acc: 0.5000\n",
      "23/23 [==============================] - 29s 1s/step - loss: 0.7437 - acc: 0.5118 - val_loss: 0.6928 - val_acc: 0.5000\n",
      "Epoch 2/15\n",
      "12/12 [==============================] - 4s 359ms/step - loss: 0.6931 - acc: 0.5000\n",
      "23/23 [==============================] - 28s 1s/step - loss: 0.6940 - acc: 0.4854 - val_loss: 0.6931 - val_acc: 0.5000\n",
      "Epoch 3/15\n",
      "12/12 [==============================] - 4s 365ms/step - loss: 0.6933 - acc: 0.5000\n",
      "23/23 [==============================] - 28s 1s/step - loss: 0.6931 - acc: 0.5056 - val_loss: 0.6933 - val_acc: 0.5000\n",
      "Epoch 4/15\n",
      "12/12 [==============================] - 4s 363ms/step - loss: 0.6931 - acc: 0.5000\n",
      "23/23 [==============================] - 28s 1s/step - loss: 0.6933 - acc: 0.5000 - val_loss: 0.6931 - val_acc: 0.5000\n",
      "Epoch 5/15\n",
      "12/12 [==============================] - 5s 404ms/step - loss: 0.6930 - acc: 0.5000\n",
      "23/23 [==============================] - 29s 1s/step - loss: 0.6932 - acc: 0.4993 - val_loss: 0.6930 - val_acc: 0.5000\n",
      "Epoch 6/15\n",
      "12/12 [==============================] - 5s 383ms/step - loss: 0.6931 - acc: 0.5000\n",
      "23/23 [==============================] - 28s 1s/step - loss: 0.6933 - acc: 0.4854 - val_loss: 0.6931 - val_acc: 0.5000\n",
      "Epoch 7/15\n",
      "12/12 [==============================] - 5s 404ms/step - loss: 0.6928 - acc: 0.5000\n",
      "23/23 [==============================] - 29s 1s/step - loss: 0.6932 - acc: 0.5014 - val_loss: 0.6928 - val_acc: 0.5000\n",
      "Epoch 8/15\n",
      "12/12 [==============================] - 5s 378ms/step - loss: 0.6926 - acc: 1.0000\n",
      "23/23 [==============================] - 29s 1s/step - loss: 0.6933 - acc: 0.4958 - val_loss: 0.6926 - val_acc: 1.0000\n",
      "Epoch 9/15\n",
      "12/12 [==============================] - 5s 391ms/step - loss: 0.6923 - acc: 0.5000\n",
      "23/23 [==============================] - 28s 1s/step - loss: 0.6933 - acc: 0.4972 - val_loss: 0.6923 - val_acc: 0.5000\n",
      "Epoch 10/15\n",
      "12/12 [==============================] - 5s 411ms/step - loss: 0.6928 - acc: 0.5000\n",
      "23/23 [==============================] - 29s 1s/step - loss: 0.6930 - acc: 0.5153 - val_loss: 0.6928 - val_acc: 0.5000\n",
      "Epoch 11/15\n",
      "12/12 [==============================] - 4s 368ms/step - loss: 0.6650 - acc: 1.0000\n",
      "23/23 [==============================] - 30s 1s/step - loss: 0.6917 - acc: 0.5222 - val_loss: 0.6650 - val_acc: 1.0000\n",
      "Epoch 12/15\n",
      "12/12 [==============================] - 5s 391ms/step - loss: 0.8840 - acc: 0.5000\n",
      "23/23 [==============================] - 29s 1s/step - loss: 0.6624 - acc: 0.5924 - val_loss: 0.8840 - val_acc: 0.5000\n",
      "Epoch 13/15\n",
      "12/12 [==============================] - 5s 384ms/step - loss: 0.4635 - acc: 0.5000\n",
      "23/23 [==============================] - 29s 1s/step - loss: 0.5195 - acc: 0.7576 - val_loss: 0.4635 - val_acc: 0.5000\n",
      "Epoch 14/15\n",
      "12/12 [==============================] - 5s 377ms/step - loss: 0.1231 - acc: 1.0000\n",
      "23/23 [==============================] - 29s 1s/step - loss: 0.4104 - acc: 0.8090 - val_loss: 0.1231 - val_acc: 1.0000\n",
      "Epoch 15/15\n",
      "12/12 [==============================] - 4s 362ms/step - loss: 0.2384 - acc: 1.0000\n",
      "23/23 [==============================] - 29s 1s/step - loss: 0.4060 - acc: 0.8285 - val_loss: 0.2384 - val_acc: 1.0000\n"
     ]
    }
   ],
   "source": [
    "history = model_new.fit_generator(\n",
    "    train_data_gen,\n",
    "    steps_per_epoch=total_train // batch_size,\n",
    "    epochs=epochs,\n",
    "    validation_data=val_data_gen,\n",
    "    validation_steps=total_val // batch_size\n",
    ")"
   ]
  },
  {
   "cell_type": "code",
   "execution_count": 47,
   "metadata": {},
   "outputs": [
    {
     "data": {
      "image/png": "[encoded data removed]",
      "text/plain": [
       "<Figure size 576x576 with 2 Axes>"
      ]
     },
     "metadata": {
      "needs_background": "light"
     },
     "output_type": "display_data"
    }
   ],
   "source": [
    "acc = history.history['acc']\n",
    "val_acc = history.history['val_acc']\n",
    "\n",
    "loss = history.history['loss']\n",
    "val_loss = history.history['val_loss']\n",
    "\n",
    "epochs_range = range(epochs)\n",
    "\n",
    "plt.figure(figsize=(8, 8))\n",
    "plt.subplot(1, 2, 1)\n",
    "plt.plot(epochs_range, acc, label='Training Accuracy')\n",
    "plt.plot(epochs_range, val_acc, label='Validation Accuracy')\n",
    "plt.legend(loc='lower right')\n",
    "plt.title('Training and Validation Accuracy')\n",
    "\n",
    "plt.subplot(1, 2, 2)\n",
    "plt.plot(epochs_range, loss, label='Training Loss')\n",
    "plt.plot(epochs_range, val_loss, label='Validation Loss')\n",
    "plt.legend(loc='upper right')\n",
    "plt.title('Training and Validation Loss')\n",
    "plt.show()"
   ]
  },
  {
   "cell_type": "markdown",
   "metadata": {},
   "source": [
    "validation 데이터가 별로 없어서 acc가 요동치는건가?"
   ]
  },
  {
   "cell_type": "code",
   "execution_count": 48,
   "metadata": {},
   "outputs": [
    {
     "name": "stdout",
     "output_type": "stream",
     "text": [
      "[[0 1 0 1 1 1 0 1 1 0 0 1 1 1 1 1 1 1 0 1 0 0 0 1 0 1 1 1 1 0 1 0 1 0 0 0\n",
      "  0 1 0 1 1 0 0 0 0 0 1 1 0 0 0 1 1 0 0 1 1 1 0 0 0 1 0 1]]\n"
     ]
    }
   ],
   "source": [
    "predict_class=model.predict_classes(sample_training_images)\n",
    "print(predict_class[0:100].T)"
   ]
  },
  {
   "cell_type": "code",
   "execution_count": 49,
   "metadata": {},
   "outputs": [
    {
     "data": {
      "text/plain": [
       "array([[0]])"
      ]
     },
     "execution_count": 49,
     "metadata": {},
     "output_type": "execute_result"
    }
   ],
   "source": [
    "model.predict_classes(sample_training_images[:1, :], verbose=0)"
   ]
  },
  {
   "cell_type": "code",
   "execution_count": null,
   "metadata": {},
   "outputs": [],
   "source": []
  },
  {
   "cell_type": "code",
   "execution_count": null,
   "metadata": {},
   "outputs": [],
   "source": []
  }
 ],
 "metadata": {
  "kernelspec": {
   "display_name": "271",
   "language": "python",
   "name": "271"
  },
  "language_info": {
   "codemirror_mode": {
    "name": "ipython",
    "version": 2
   },
   "file_extension": ".py",
   "mimetype": "text/x-python",
   "name": "python",
   "nbconvert_exporter": "python",
   "pygments_lexer": "ipython2",
   "version": "2.7.16"
  }
 },
 "nbformat": 4,
 "nbformat_minor": 2
}
