{
 "cells": [
  {
   "cell_type": "code",
   "execution_count": 18,
   "metadata": {},
   "outputs": [],
   "source": [
    "import pandas as pd\n",
    "import soundfile as sf"
   ]
  },
  {
   "cell_type": "code",
   "execution_count": 20,
   "metadata": {},
   "outputs": [],
   "source": [
    "# assume we have columns 'time' and 'value'\n",
    "df = pd.read_excel('Amino-s.xlsx')\n",
    "\n",
    "# compute sample rate, assuming times are in seconds\n",
    "times = df['time'].values\n",
    "n_measurements = len(times)\n",
    "timespan_seconds = times[-1] - times[0]\n",
    "sample_rate_hz = int(n_measurements / timespan_seconds)\n",
    "\n",
    "# write data\n",
    "data = df['value'].values\n",
    "sf.write('recording.wav', data, sample_rate_hz)"
   ]
  },
  {
   "cell_type": "code",
   "execution_count": null,
   "metadata": {},
   "outputs": [],
   "source": []
  }
 ],
 "metadata": {
  "kernelspec": {
   "display_name": "Python 3",
   "language": "python",
   "name": "python3"
  },
  "language_info": {
   "codemirror_mode": {
    "name": "ipython",
    "version": 3
   },
   "file_extension": ".py",
   "mimetype": "text/x-python",
   "name": "python",
   "nbconvert_exporter": "python",
   "pygments_lexer": "ipython3",
   "version": "3.5.6"
  }
 },
 "nbformat": 4,
 "nbformat_minor": 2
}
