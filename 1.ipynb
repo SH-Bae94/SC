{
 "cells": [
  {
   "cell_type": "code",
   "execution_count": 1,
   "metadata": {},
   "outputs": [
    {
     "name": "stdout",
     "output_type": "stream",
     "text": [
      "          0       1       2          3         4     5      6  7\n",
      "0     4.163   4.010   4.200  199761034  27153794  7.36  14.01  0\n",
      "1     4.253   4.200   4.330  117549848  27808033  4.23   8.25  1\n",
      "2     4.313   4.300   4.330    1194903   1295251  0.92   0.08  0\n",
      "3     4.361   4.330   4.380    8153694   3954332  2.06   0.57  0\n",
      "4     4.393   4.380   4.417    3811701   2628854  1.45   0.27  0\n",
      "5     4.440   4.417   4.470    5094866   2940907  1.73   0.36  0\n",
      "6     4.493   4.470   4.523    1739721    719133  2.42   0.12  0\n",
      "7     4.557   4.523   4.593    2701816    861279  3.14   0.19  0\n",
      "8     4.626   4.593   4.647    2629067    995640  2.64   0.18  0\n",
      "9     4.668   4.647   4.697    2827023   1421616  1.99   0.20  0\n",
      "10    4.719   4.697   4.753    1743408    900816  1.94   0.12  0\n",
      "11    4.801   4.753   4.883   12174616   5175514  2.35   0.85  0\n",
      "12    4.927   4.883   4.970    1992184    624231  3.19   0.14  0\n",
      "13    5.050   4.970   5.090    3787231   1673203  2.26   0.27  0\n",
      "14    5.117   5.090   5.120     348529    243919  1.43   0.02  0\n",
      "15    5.175   5.120   5.240   10109920   4167602  2.43   0.71  0\n",
      "16    5.268   5.240   5.287    2959593   1481992  2.00   0.21  0\n",
      "17    5.307   5.287   5.343    4429969   2356883  1.88   0.31  0\n",
      "18    5.376   5.343   5.440    1946083    710833  2.74   0.14  0\n",
      "19    5.481   5.440   5.533    2672201   1262896  2.12   0.19  0\n",
      "20    5.571   5.533   5.633    3517506   1411944  2.49   0.25  0\n",
      "21    5.766   5.633   5.837   25824909   8565880  3.01   1.81  0\n",
      "22    5.930   5.837   5.957   53684158  16299084  3.29   3.77  0\n",
      "23    5.971   5.957   6.003    2167893   1398961  1.55   0.15  0\n",
      "24    6.068   6.003   6.150    5306785   1295837  4.10   0.37  0\n",
      "25    6.166   6.150   6.197     385409    156218  2.47   0.03  0\n",
      "26    6.211   6.197   6.227     176645    104036  1.70   0.01  0\n",
      "27    6.270   6.227   6.297    2574473   1176874  2.19   0.18  0\n",
      "28    6.311   6.297   6.333     861215    444512  1.94   0.06  0\n",
      "29    6.375   6.333   6.417    4333393   1719137  2.52   0.30  0\n",
      "..      ...     ...     ...        ...       ...   ...    ... ..\n",
      "368  29.852  29.843  29.857       4528      8490  0.53   0.00  0\n",
      "369  29.867  29.857  29.870       4746      7662  0.62   0.00  1\n",
      "370  29.920  29.870  29.950      78493     23664  3.32   0.01  0\n",
      "371  29.977  29.950  30.027     150204     51519  2.92   0.01  0\n",
      "372  30.060  30.027  30.067      48340     28567  1.69   0.00  0\n",
      "373  30.120  30.067  30.190     873787    342162  2.55   0.06  0\n",
      "374  30.220  30.190  30.253      59251     22975  2.58   0.00  0\n",
      "375  30.280  30.253  30.283      12588     12209  1.03   0.00  0\n",
      "376  30.286  30.283  30.313      18752     20318  0.92   0.00  0\n",
      "377  30.354  30.313  30.393     113150     43185  2.62   0.01  0\n",
      "378  30.471  30.393  30.503     115119     29244  3.94   0.01  0\n",
      "379  30.543  30.503  30.597     259568     80198  3.24   0.02  0\n",
      "380  30.612  30.597  30.627      24757     17746  1.40   0.00  1\n",
      "381  30.643  30.627  30.667      23750     10890  2.18   0.00  0\n",
      "382  30.671  30.667  30.693      23011     15431  1.49   0.00  0\n",
      "383  30.700  30.693  30.720      18584     12934  1.44   0.00  1\n",
      "384  30.750  30.720  30.777      28703     15779  1.82   0.00  0\n",
      "385  30.793  30.777  30.800       9338     11031  0.85   0.00  0\n",
      "386  30.849  30.800  30.883      62211     20396  3.05   0.00  0\n",
      "387  30.886  30.883  30.890       3643     10334  0.35   0.00  0\n",
      "388  30.913  30.890  30.920      28901     21401  1.35   0.00  0\n",
      "389  30.926  30.920  30.930      13049     22783  0.57   0.00  0\n",
      "390  30.952  30.930  30.960      39120     26491  1.48   0.00  0\n",
      "391  30.967  30.960  30.973      11218     15445  0.73   0.00  0\n",
      "392  30.980  30.973  30.993      13573     20156  0.67   0.00  0\n",
      "393  30.998  30.993  31.020      11461     13060  0.88   0.00  0\n",
      "394  31.030  31.020  31.037       7015     13654  0.51   0.00  0\n",
      "395  31.185  31.037  31.560   58531243  11607555  5.04   4.11  1\n",
      "396  31.373  31.367  31.377       4588     18734  0.24   0.00  0\n",
      "397  31.423  31.420  31.447       8760      6522  1.34   0.00  0\n",
      "\n",
      "[398 rows x 8 columns]\n"
     ]
    }
   ],
   "source": [
    "import pandas as pd\n",
    "import numpy as np\n",
    "import io\n",
    "import matplotlib.pyplot as plt\n",
    "from pandas import DataFrame\n",
    "\n",
    "df = pd.read_csv('cv1-1-1.csv')\n",
    "print(df)"
   ]
  },
  {
   "cell_type": "code",
   "execution_count": 3,
   "metadata": {},
   "outputs": [
    {
     "name": "stdout",
     "output_type": "stream",
     "text": [
      "<class 'pandas.core.frame.DataFrame'>\n",
      "       0          3\n",
      "0  4.163  199761034\n",
      "1  4.253  117549848\n",
      "2  4.313    1194903\n",
      "3  4.361    8153694\n",
      "4  4.393    3811701\n",
      "          0         3\n",
      "393  30.998     11461\n",
      "394  31.030      7015\n",
      "395  31.185  58531243\n",
      "396  31.373      4588\n",
      "397  31.423      8760\n"
     ]
    }
   ],
   "source": [
    "df = pd.read_csv('cv1-1-1.csv',sep=',')\n",
    "\n",
    "columns_df = df[['0','3']]\n",
    "print(type(columns_df))\n",
    "print(columns_df.head())\n",
    "print(columns_df.tail())"
   ]
  },
  {
   "cell_type": "code",
   "execution_count": 4,
   "metadata": {},
   "outputs": [
    {
     "name": "stdout",
     "output_type": "stream",
     "text": [
      "<class 'pandas.core.frame.DataFrame'>\n",
      "       0         4\n",
      "0  4.163  27153794\n",
      "1  4.253  27808033\n",
      "2  4.313   1295251\n",
      "3  4.361   3954332\n",
      "4  4.393   2628854\n",
      "          0         4\n",
      "393  30.998     13060\n",
      "394  31.030     13654\n",
      "395  31.185  11607555\n",
      "396  31.373     18734\n",
      "397  31.423      6522\n"
     ]
    }
   ],
   "source": [
    "columns_df = df[['0','4']]\n",
    "print(type(columns_df))\n",
    "print(columns_df.head())\n",
    "print(columns_df.tail())"
   ]
  },
  {
   "cell_type": "code",
   "execution_count": 5,
   "metadata": {},
   "outputs": [
    {
     "name": "stdout",
     "output_type": "stream",
     "text": [
      "<class 'pandas.core.frame.DataFrame'>\n",
      "           3         4\n",
      "0  199761034  27153794\n",
      "1  117549848  27808033\n",
      "2    1194903   1295251\n",
      "3    8153694   3954332\n",
      "4    3811701   2628854\n",
      "            3         4\n",
      "393     11461     13060\n",
      "394      7015     13654\n",
      "395  58531243  11607555\n",
      "396      4588     18734\n",
      "397      8760      6522\n"
     ]
    }
   ],
   "source": [
    "columns_df = df[['3','4']]\n",
    "print(type(columns_df))\n",
    "print(columns_df.head())\n",
    "print(columns_df.tail())"
   ]
  },
  {
   "cell_type": "code",
   "execution_count": 6,
   "metadata": {},
   "outputs": [
    {
     "data": {
      "text/html": [
       "<div>\n",
       "<style scoped>\n",
       "    .dataframe tbody tr th:only-of-type {\n",
       "        vertical-align: middle;\n",
       "    }\n",
       "\n",
       "    .dataframe tbody tr th {\n",
       "        vertical-align: top;\n",
       "    }\n",
       "\n",
       "    .dataframe thead th {\n",
       "        text-align: right;\n",
       "    }\n",
       "</style>\n",
       "<table border=\"1\" class=\"dataframe\">\n",
       "  <thead>\n",
       "    <tr style=\"text-align: right;\">\n",
       "      <th></th>\n",
       "      <th>0</th>\n",
       "      <th>1</th>\n",
       "      <th>2</th>\n",
       "      <th>3</th>\n",
       "      <th>4</th>\n",
       "      <th>5</th>\n",
       "      <th>6</th>\n",
       "      <th>7</th>\n",
       "    </tr>\n",
       "  </thead>\n",
       "  <tbody>\n",
       "    <tr>\n",
       "      <th>0</th>\n",
       "      <td>4.163</td>\n",
       "      <td>4.01</td>\n",
       "      <td>4.200</td>\n",
       "      <td>199761034</td>\n",
       "      <td>27153794</td>\n",
       "      <td>7.36</td>\n",
       "      <td>14.01</td>\n",
       "      <td>0</td>\n",
       "    </tr>\n",
       "    <tr>\n",
       "      <th>1</th>\n",
       "      <td>4.253</td>\n",
       "      <td>4.20</td>\n",
       "      <td>4.330</td>\n",
       "      <td>117549848</td>\n",
       "      <td>27808033</td>\n",
       "      <td>4.23</td>\n",
       "      <td>8.25</td>\n",
       "      <td>1</td>\n",
       "    </tr>\n",
       "    <tr>\n",
       "      <th>2</th>\n",
       "      <td>4.313</td>\n",
       "      <td>4.30</td>\n",
       "      <td>4.330</td>\n",
       "      <td>1194903</td>\n",
       "      <td>1295251</td>\n",
       "      <td>0.92</td>\n",
       "      <td>0.08</td>\n",
       "      <td>0</td>\n",
       "    </tr>\n",
       "    <tr>\n",
       "      <th>3</th>\n",
       "      <td>4.361</td>\n",
       "      <td>4.33</td>\n",
       "      <td>4.380</td>\n",
       "      <td>8153694</td>\n",
       "      <td>3954332</td>\n",
       "      <td>2.06</td>\n",
       "      <td>0.57</td>\n",
       "      <td>0</td>\n",
       "    </tr>\n",
       "    <tr>\n",
       "      <th>4</th>\n",
       "      <td>4.393</td>\n",
       "      <td>4.38</td>\n",
       "      <td>4.417</td>\n",
       "      <td>3811701</td>\n",
       "      <td>2628854</td>\n",
       "      <td>1.45</td>\n",
       "      <td>0.27</td>\n",
       "      <td>0</td>\n",
       "    </tr>\n",
       "  </tbody>\n",
       "</table>\n",
       "</div>"
      ],
      "text/plain": [
       "       0     1      2          3         4     5      6  7\n",
       "0  4.163  4.01  4.200  199761034  27153794  7.36  14.01  0\n",
       "1  4.253  4.20  4.330  117549848  27808033  4.23   8.25  1\n",
       "2  4.313  4.30  4.330    1194903   1295251  0.92   0.08  0\n",
       "3  4.361  4.33  4.380    8153694   3954332  2.06   0.57  0\n",
       "4  4.393  4.38  4.417    3811701   2628854  1.45   0.27  0"
      ]
     },
     "execution_count": 6,
     "metadata": {},
     "output_type": "execute_result"
    }
   ],
   "source": [
    "df.head()"
   ]
  },
  {
   "cell_type": "code",
   "execution_count": 7,
   "metadata": {},
   "outputs": [
    {
     "data": {
      "text/plain": [
       "array([[<matplotlib.axes._subplots.AxesSubplot object at 0x7faaef14f518>,\n",
       "        <matplotlib.axes._subplots.AxesSubplot object at 0x7faaeee87390>,\n",
       "        <matplotlib.axes._subplots.AxesSubplot object at 0x7faaeeea1710>],\n",
       "       [<matplotlib.axes._subplots.AxesSubplot object at 0x7faaeeebada0>,\n",
       "        <matplotlib.axes._subplots.AxesSubplot object at 0x7faaeee57470>,\n",
       "        <matplotlib.axes._subplots.AxesSubplot object at 0x7faaeee70b00>],\n",
       "       [<matplotlib.axes._subplots.AxesSubplot object at 0x7faaeee0f1d0>,\n",
       "        <matplotlib.axes._subplots.AxesSubplot object at 0x7faaeee267f0>,\n",
       "        <matplotlib.axes._subplots.AxesSubplot object at 0x7faaeedbfe80>]],\n",
       "      dtype=object)"
      ]
     },
     "execution_count": 7,
     "metadata": {},
     "output_type": "execute_result"
    },
    {
     "data": {
      "image/png": "[encoded data removed]",
      "text/plain": [
       "<Figure size 432x288 with 9 Axes>"
      ]
     },
     "metadata": {
      "needs_background": "light"
     },
     "output_type": "display_data"
    }
   ],
   "source": [
    "df.hist()"
   ]
  },
  {
   "cell_type": "code",
   "execution_count": 8,
   "metadata": {},
   "outputs": [
    {
     "name": "stdout",
     "output_type": "stream",
     "text": [
      "0.0\n"
     ]
    }
   ],
   "source": [
    "df1 = np.loadtxt('cv1-1-1.csv', delimiter=',')\n",
    "print(df1[0][0])"
   ]
  },
  {
   "cell_type": "code",
   "execution_count": null,
   "metadata": {},
   "outputs": [
    {
     "ename": "ValueError",
     "evalue": "cannot copy sequence with size 398 to array axis with dimension 1",
     "output_type": "error",
     "traceback": [
      "\u001b[0;31m---------------------------------------------------------------------------\u001b[0m",
      "\u001b[0;31mValueError\u001b[0m                                Traceback (most recent call last)",
      "\u001b[0;32m<ipython-input-9-be1e55ffc572>\u001b[0m in \u001b[0;36m<module>\u001b[0;34m\u001b[0m\n\u001b[1;32m      6\u001b[0m \u001b[0;34m\u001b[0m\u001b[0m\n\u001b[1;32m      7\u001b[0m \u001b[0mplt\u001b[0m\u001b[0;34m.\u001b[0m\u001b[0mfigure\u001b[0m\u001b[0;34m(\u001b[0m\u001b[0mfigsize\u001b[0m\u001b[0;34m=\u001b[0m\u001b[0;34m(\u001b[0m\u001b[0;36m400\u001b[0m\u001b[0;34m,\u001b[0m \u001b[0;36m400\u001b[0m\u001b[0;34m)\u001b[0m\u001b[0;34m)\u001b[0m\u001b[0;34m\u001b[0m\u001b[0m\n\u001b[0;32m----> 8\u001b[0;31m \u001b[0mplt\u001b[0m\u001b[0;34m.\u001b[0m\u001b[0mplot\u001b[0m\u001b[0;34m(\u001b[0m\u001b[0mx\u001b[0m\u001b[0;34m,\u001b[0m \u001b[0my\u001b[0m\u001b[0;34m)\u001b[0m\u001b[0;34m\u001b[0m\u001b[0m\n\u001b[0m\u001b[1;32m      9\u001b[0m \u001b[0;34m\u001b[0m\u001b[0m\n\u001b[1;32m     10\u001b[0m \u001b[0mplt\u001b[0m\u001b[0;34m.\u001b[0m\u001b[0mxlabel\u001b[0m\u001b[0;34m(\u001b[0m\u001b[0;34m'Ret.Time'\u001b[0m\u001b[0;34m)\u001b[0m\u001b[0;34m\u001b[0m\u001b[0m\n",
      "\u001b[0;32m~/anaconda3/envs/356/lib/python3.5/site-packages/matplotlib/pyplot.py\u001b[0m in \u001b[0;36mplot\u001b[0;34m(*args, **kwargs)\u001b[0m\n\u001b[1;32m   3356\u001b[0m                       mplDeprecation)\n\u001b[1;32m   3357\u001b[0m     \u001b[0;32mtry\u001b[0m\u001b[0;34m:\u001b[0m\u001b[0;34m\u001b[0m\u001b[0m\n\u001b[0;32m-> 3358\u001b[0;31m         \u001b[0mret\u001b[0m \u001b[0;34m=\u001b[0m \u001b[0max\u001b[0m\u001b[0;34m.\u001b[0m\u001b[0mplot\u001b[0m\u001b[0;34m(\u001b[0m\u001b[0;34m*\u001b[0m\u001b[0margs\u001b[0m\u001b[0;34m,\u001b[0m \u001b[0;34m**\u001b[0m\u001b[0mkwargs\u001b[0m\u001b[0;34m)\u001b[0m\u001b[0;34m\u001b[0m\u001b[0m\n\u001b[0m\u001b[1;32m   3359\u001b[0m     \u001b[0;32mfinally\u001b[0m\u001b[0;34m:\u001b[0m\u001b[0;34m\u001b[0m\u001b[0m\n\u001b[1;32m   3360\u001b[0m         \u001b[0max\u001b[0m\u001b[0;34m.\u001b[0m\u001b[0m_hold\u001b[0m \u001b[0;34m=\u001b[0m \u001b[0mwashold\u001b[0m\u001b[0;34m\u001b[0m\u001b[0m\n",
      "\u001b[0;32m~/anaconda3/envs/356/lib/python3.5/site-packages/matplotlib/__init__.py\u001b[0m in \u001b[0;36minner\u001b[0;34m(ax, *args, **kwargs)\u001b[0m\n\u001b[1;32m   1853\u001b[0m                         \u001b[0;34m\"the Matplotlib list!)\"\u001b[0m \u001b[0;34m%\u001b[0m \u001b[0;34m(\u001b[0m\u001b[0mlabel_namer\u001b[0m\u001b[0;34m,\u001b[0m \u001b[0mfunc\u001b[0m\u001b[0;34m.\u001b[0m\u001b[0m__name__\u001b[0m\u001b[0;34m)\u001b[0m\u001b[0;34m,\u001b[0m\u001b[0;34m\u001b[0m\u001b[0m\n\u001b[1;32m   1854\u001b[0m                         RuntimeWarning, stacklevel=2)\n\u001b[0;32m-> 1855\u001b[0;31m             \u001b[0;32mreturn\u001b[0m \u001b[0mfunc\u001b[0m\u001b[0;34m(\u001b[0m\u001b[0max\u001b[0m\u001b[0;34m,\u001b[0m \u001b[0;34m*\u001b[0m\u001b[0margs\u001b[0m\u001b[0;34m,\u001b[0m \u001b[0;34m**\u001b[0m\u001b[0mkwargs\u001b[0m\u001b[0;34m)\u001b[0m\u001b[0;34m\u001b[0m\u001b[0m\n\u001b[0m\u001b[1;32m   1856\u001b[0m \u001b[0;34m\u001b[0m\u001b[0m\n\u001b[1;32m   1857\u001b[0m         inner.__doc__ = _add_data_doc(inner.__doc__,\n",
      "\u001b[0;32m~/anaconda3/envs/356/lib/python3.5/site-packages/matplotlib/axes/_axes.py\u001b[0m in \u001b[0;36mplot\u001b[0;34m(self, *args, **kwargs)\u001b[0m\n\u001b[1;32m   1525\u001b[0m         \u001b[0mkwargs\u001b[0m \u001b[0;34m=\u001b[0m \u001b[0mcbook\u001b[0m\u001b[0;34m.\u001b[0m\u001b[0mnormalize_kwargs\u001b[0m\u001b[0;34m(\u001b[0m\u001b[0mkwargs\u001b[0m\u001b[0;34m,\u001b[0m \u001b[0m_alias_map\u001b[0m\u001b[0;34m)\u001b[0m\u001b[0;34m\u001b[0m\u001b[0m\n\u001b[1;32m   1526\u001b[0m \u001b[0;34m\u001b[0m\u001b[0m\n\u001b[0;32m-> 1527\u001b[0;31m         \u001b[0;32mfor\u001b[0m \u001b[0mline\u001b[0m \u001b[0;32min\u001b[0m \u001b[0mself\u001b[0m\u001b[0;34m.\u001b[0m\u001b[0m_get_lines\u001b[0m\u001b[0;34m(\u001b[0m\u001b[0;34m*\u001b[0m\u001b[0margs\u001b[0m\u001b[0;34m,\u001b[0m \u001b[0;34m**\u001b[0m\u001b[0mkwargs\u001b[0m\u001b[0;34m)\u001b[0m\u001b[0;34m:\u001b[0m\u001b[0;34m\u001b[0m\u001b[0m\n\u001b[0m\u001b[1;32m   1528\u001b[0m             \u001b[0mself\u001b[0m\u001b[0;34m.\u001b[0m\u001b[0madd_line\u001b[0m\u001b[0;34m(\u001b[0m\u001b[0mline\u001b[0m\u001b[0;34m)\u001b[0m\u001b[0;34m\u001b[0m\u001b[0m\n\u001b[1;32m   1529\u001b[0m             \u001b[0mlines\u001b[0m\u001b[0;34m.\u001b[0m\u001b[0mappend\u001b[0m\u001b[0;34m(\u001b[0m\u001b[0mline\u001b[0m\u001b[0;34m)\u001b[0m\u001b[0;34m\u001b[0m\u001b[0m\n",
      "\u001b[0;32m~/anaconda3/envs/356/lib/python3.5/site-packages/matplotlib/axes/_base.py\u001b[0m in \u001b[0;36m_grab_next_args\u001b[0;34m(self, *args, **kwargs)\u001b[0m\n\u001b[1;32m    404\u001b[0m                 \u001b[0mthis\u001b[0m \u001b[0;34m+=\u001b[0m \u001b[0margs\u001b[0m\u001b[0;34m[\u001b[0m\u001b[0;36m0\u001b[0m\u001b[0;34m]\u001b[0m\u001b[0;34m,\u001b[0m\u001b[0;34m\u001b[0m\u001b[0m\n\u001b[1;32m    405\u001b[0m                 \u001b[0margs\u001b[0m \u001b[0;34m=\u001b[0m \u001b[0margs\u001b[0m\u001b[0;34m[\u001b[0m\u001b[0;36m1\u001b[0m\u001b[0;34m:\u001b[0m\u001b[0;34m]\u001b[0m\u001b[0;34m\u001b[0m\u001b[0m\n\u001b[0;32m--> 406\u001b[0;31m             \u001b[0;32mfor\u001b[0m \u001b[0mseg\u001b[0m \u001b[0;32min\u001b[0m \u001b[0mself\u001b[0m\u001b[0;34m.\u001b[0m\u001b[0m_plot_args\u001b[0m\u001b[0;34m(\u001b[0m\u001b[0mthis\u001b[0m\u001b[0;34m,\u001b[0m \u001b[0mkwargs\u001b[0m\u001b[0;34m)\u001b[0m\u001b[0;34m:\u001b[0m\u001b[0;34m\u001b[0m\u001b[0m\n\u001b[0m\u001b[1;32m    407\u001b[0m                 \u001b[0;32myield\u001b[0m \u001b[0mseg\u001b[0m\u001b[0;34m\u001b[0m\u001b[0m\n\u001b[1;32m    408\u001b[0m \u001b[0;34m\u001b[0m\u001b[0m\n",
      "\u001b[0;32m~/anaconda3/envs/356/lib/python3.5/site-packages/matplotlib/axes/_base.py\u001b[0m in \u001b[0;36m_plot_args\u001b[0;34m(self, tup, kwargs)\u001b[0m\n\u001b[1;32m    376\u001b[0m \u001b[0;34m\u001b[0m\u001b[0m\n\u001b[1;32m    377\u001b[0m         \u001b[0;32mif\u001b[0m \u001b[0mlen\u001b[0m\u001b[0;34m(\u001b[0m\u001b[0mtup\u001b[0m\u001b[0;34m)\u001b[0m \u001b[0;34m==\u001b[0m \u001b[0;36m2\u001b[0m\u001b[0;34m:\u001b[0m\u001b[0;34m\u001b[0m\u001b[0m\n\u001b[0;32m--> 378\u001b[0;31m             \u001b[0mx\u001b[0m \u001b[0;34m=\u001b[0m \u001b[0m_check_1d\u001b[0m\u001b[0;34m(\u001b[0m\u001b[0mtup\u001b[0m\u001b[0;34m[\u001b[0m\u001b[0;36m0\u001b[0m\u001b[0;34m]\u001b[0m\u001b[0;34m)\u001b[0m\u001b[0;34m\u001b[0m\u001b[0m\n\u001b[0m\u001b[1;32m    379\u001b[0m             \u001b[0my\u001b[0m \u001b[0;34m=\u001b[0m \u001b[0m_check_1d\u001b[0m\u001b[0;34m(\u001b[0m\u001b[0mtup\u001b[0m\u001b[0;34m[\u001b[0m\u001b[0;34m-\u001b[0m\u001b[0;36m1\u001b[0m\u001b[0;34m]\u001b[0m\u001b[0;34m)\u001b[0m\u001b[0;34m\u001b[0m\u001b[0m\n\u001b[1;32m    380\u001b[0m         \u001b[0;32melse\u001b[0m\u001b[0;34m:\u001b[0m\u001b[0;34m\u001b[0m\u001b[0m\n",
      "\u001b[0;32m~/anaconda3/envs/356/lib/python3.5/site-packages/matplotlib/cbook/__init__.py\u001b[0m in \u001b[0;36m_check_1d\u001b[0;34m(x)\u001b[0m\n\u001b[1;32m   2057\u001b[0m     '''\n\u001b[1;32m   2058\u001b[0m     \u001b[0;32mif\u001b[0m \u001b[0;32mnot\u001b[0m \u001b[0mhasattr\u001b[0m\u001b[0;34m(\u001b[0m\u001b[0mx\u001b[0m\u001b[0;34m,\u001b[0m \u001b[0;34m'shape'\u001b[0m\u001b[0;34m)\u001b[0m \u001b[0;32mor\u001b[0m \u001b[0mlen\u001b[0m\u001b[0;34m(\u001b[0m\u001b[0mx\u001b[0m\u001b[0;34m.\u001b[0m\u001b[0mshape\u001b[0m\u001b[0;34m)\u001b[0m \u001b[0;34m<\u001b[0m \u001b[0;36m1\u001b[0m\u001b[0;34m:\u001b[0m\u001b[0;34m\u001b[0m\u001b[0m\n\u001b[0;32m-> 2059\u001b[0;31m         \u001b[0;32mreturn\u001b[0m \u001b[0mnp\u001b[0m\u001b[0;34m.\u001b[0m\u001b[0matleast_1d\u001b[0m\u001b[0;34m(\u001b[0m\u001b[0mx\u001b[0m\u001b[0;34m)\u001b[0m\u001b[0;34m\u001b[0m\u001b[0m\n\u001b[0m\u001b[1;32m   2060\u001b[0m     \u001b[0;32melse\u001b[0m\u001b[0;34m:\u001b[0m\u001b[0;34m\u001b[0m\u001b[0m\n\u001b[1;32m   2061\u001b[0m         \u001b[0;32mtry\u001b[0m\u001b[0;34m:\u001b[0m\u001b[0;34m\u001b[0m\u001b[0m\n",
      "\u001b[0;32m~/anaconda3/envs/356/lib/python3.5/site-packages/numpy/core/shape_base.py\u001b[0m in \u001b[0;36matleast_1d\u001b[0;34m(*arys)\u001b[0m\n\u001b[1;32m     50\u001b[0m     \u001b[0mres\u001b[0m \u001b[0;34m=\u001b[0m \u001b[0;34m[\u001b[0m\u001b[0;34m]\u001b[0m\u001b[0;34m\u001b[0m\u001b[0m\n\u001b[1;32m     51\u001b[0m     \u001b[0;32mfor\u001b[0m \u001b[0mary\u001b[0m \u001b[0;32min\u001b[0m \u001b[0marys\u001b[0m\u001b[0;34m:\u001b[0m\u001b[0;34m\u001b[0m\u001b[0m\n\u001b[0;32m---> 52\u001b[0;31m         \u001b[0mary\u001b[0m \u001b[0;34m=\u001b[0m \u001b[0masanyarray\u001b[0m\u001b[0;34m(\u001b[0m\u001b[0mary\u001b[0m\u001b[0;34m)\u001b[0m\u001b[0;34m\u001b[0m\u001b[0m\n\u001b[0m\u001b[1;32m     53\u001b[0m         \u001b[0;32mif\u001b[0m \u001b[0mary\u001b[0m\u001b[0;34m.\u001b[0m\u001b[0mndim\u001b[0m \u001b[0;34m==\u001b[0m \u001b[0;36m0\u001b[0m\u001b[0;34m:\u001b[0m\u001b[0;34m\u001b[0m\u001b[0m\n\u001b[1;32m     54\u001b[0m             \u001b[0mresult\u001b[0m \u001b[0;34m=\u001b[0m \u001b[0mary\u001b[0m\u001b[0;34m.\u001b[0m\u001b[0mreshape\u001b[0m\u001b[0;34m(\u001b[0m\u001b[0;36m1\u001b[0m\u001b[0;34m)\u001b[0m\u001b[0;34m\u001b[0m\u001b[0m\n",
      "\u001b[0;32m~/anaconda3/envs/356/lib/python3.5/site-packages/numpy/core/numeric.py\u001b[0m in \u001b[0;36masanyarray\u001b[0;34m(a, dtype, order)\u001b[0m\n\u001b[1;32m    551\u001b[0m \u001b[0;34m\u001b[0m\u001b[0m\n\u001b[1;32m    552\u001b[0m     \"\"\"\n\u001b[0;32m--> 553\u001b[0;31m     \u001b[0;32mreturn\u001b[0m \u001b[0marray\u001b[0m\u001b[0;34m(\u001b[0m\u001b[0ma\u001b[0m\u001b[0;34m,\u001b[0m \u001b[0mdtype\u001b[0m\u001b[0;34m,\u001b[0m \u001b[0mcopy\u001b[0m\u001b[0;34m=\u001b[0m\u001b[0;32mFalse\u001b[0m\u001b[0;34m,\u001b[0m \u001b[0morder\u001b[0m\u001b[0;34m=\u001b[0m\u001b[0morder\u001b[0m\u001b[0;34m,\u001b[0m \u001b[0msubok\u001b[0m\u001b[0;34m=\u001b[0m\u001b[0;32mTrue\u001b[0m\u001b[0;34m)\u001b[0m\u001b[0;34m\u001b[0m\u001b[0m\n\u001b[0m\u001b[1;32m    554\u001b[0m \u001b[0;34m\u001b[0m\u001b[0m\n\u001b[1;32m    555\u001b[0m \u001b[0;34m\u001b[0m\u001b[0m\n",
      "\u001b[0;31mValueError\u001b[0m: cannot copy sequence with size 398 to array axis with dimension 1"
     ]
    }
   ],
   "source": [
    "columns_df1 = df[['0']]\n",
    "columns_df2 = df[['4']]\n",
    "\n",
    "x = [columns_df1]\n",
    "y = [columns_df2]\n",
    "\n",
    "plt.figure(figsize=(400, 400))\n",
    "plt.plot(x, y)\n",
    "\n",
    "plt.xlabel('Ret.Time')\n",
    "plt.ylabel('Height')\n",
    "\n",
    "plt.title('Ret.Time and Height')\n",
    "\n",
    "plt.show()"
   ]
  },
  {
   "cell_type": "code",
   "execution_count": null,
   "metadata": {},
   "outputs": [],
   "source": []
  }
 ],
 "metadata": {
  "kernelspec": {
   "display_name": "356",
   "language": "python",
   "name": "356"
  },
  "language_info": {
   "codemirror_mode": {
    "name": "ipython",
    "version": 3
   },
   "file_extension": ".py",
   "mimetype": "text/x-python",
   "name": "python",
   "nbconvert_exporter": "python",
   "pygments_lexer": "ipython3",
   "version": "3.5.6"
  }
 },
 "nbformat": 4,
 "nbformat_minor": 2
}
