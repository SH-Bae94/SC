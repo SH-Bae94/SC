{
 "cells": [
  {
   "cell_type": "markdown",
   "metadata": {},
   "source": [
    "jupyter로 flask 사용시 에러발생, 해결이 복잡하니 gedit으로 .py생성 후 실행 바람."
   ]
  },
  {
   "cell_type": "code",
   "execution_count": 47,
   "metadata": {},
   "outputs": [
    {
     "data": {
      "text/plain": [
       "'\\n $ export FLASK_APP=urban_sound_classifier.py\\n $ flask run\\n ... Running on http://127.0.0.1:5000\\n'"
      ]
     },
     "execution_count": 47,
     "metadata": {},
     "output_type": "execute_result"
    }
   ],
   "source": [
    "# -*- coding: utf-8 -*-\n",
    "\"\"\"\n",
    " $ export FLASK_APP=urban_sound_classifier.py\n",
    " $ flask run\n",
    " ... Running on http://127.0.0.1:5000\n",
    "\"\"\""
   ]
  },
  {
   "cell_type": "code",
   "execution_count": 48,
   "metadata": {},
   "outputs": [],
   "source": [
    "import numpy as np\n",
    "import tensorflow as tf\n",
    "import librosa\n",
    "from flask import Flask, request\n",
    "import os"
   ]
  },
  {
   "cell_type": "code",
   "execution_count": 49,
   "metadata": {},
   "outputs": [],
   "source": [
    "tf.reset_default_graph ()\n",
    "def extract_feature(file_name):\n",
    "    X, sample_rate = librosa.load(file_name)\n",
    "    stft = np.abs(librosa.stft(X))\n",
    "    mfccs = np.mean(librosa.feature.mfcc(y=X, sr=sample_rate, n_mfcc=40).T,axis=0)\n",
    "    chroma = np.mean(librosa.feature.chroma_stft(S=stft, sr=sample_rate).T,axis=0)\n",
    "    mel = np.mean(librosa.feature.melspectrogram(X, sr=sample_rate).T,axis=0)\n",
    "    contrast = np.mean(librosa.feature.spectral_contrast(S=stft, sr=sample_rate).T,axis=0)\n",
    "    tonnetz = np.mean(librosa.feature.tonnetz(y=librosa.effects.harmonic(X), sr=sample_rate).T,axis=0)\n",
    "    return mfccs,chroma,mel,contrast,tonnetz"
   ]
  },
  {
   "cell_type": "code",
   "execution_count": 50,
   "metadata": {},
   "outputs": [],
   "source": [
    "training_epochs = 5000\n",
    "n_dim = 193\n",
    "n_classes = 10\n",
    "learning_rate = 0.001"
   ]
  },
  {
   "cell_type": "code",
   "execution_count": 51,
   "metadata": {},
   "outputs": [],
   "source": [
    "X = tf.placeholder(tf.float32, [None, n_dim])\n",
    "Y = tf.placeholder(tf.float32, [None, n_classes])"
   ]
  },
  {
   "cell_type": "code",
   "execution_count": 52,
   "metadata": {},
   "outputs": [],
   "source": [
    "c1 = tf.layers.conv2d(tf.reshape(X, [-1, 1, n_dim, 1]), 50, (1, 5), padding='same', activation=tf.nn.sigmoid, name=\"c1\")\n",
    "p1 = tf.layers.max_pooling2d(inputs=c1, pool_size=[1, 2], strides=2)\n",
    "c2 = tf.layers.conv2d(tf.reshape(p1, [-1, 1, 96, 50]), 100, (1, 5), padding='same', activation=tf.nn.sigmoid, name=\"c2\")\n",
    "p2 = tf.layers.max_pooling2d(inputs=c2, pool_size=[1, 2], strides=2)\n",
    "\n",
    "h_p = tf.reshape(p2, [-1, 48*100])\n",
    "\n",
    "h_1 = tf.layers.dense(inputs=h_p, units=1000, activation=tf.nn.sigmoid, kernel_initializer=tf.contrib.layers.xavier_initializer(), name=\"fc1\")\n",
    "\n",
    "y_hat = tf.layers.dense(inputs=h_1, units=n_classes, kernel_initializer=tf.contrib.layers.xavier_initializer(), name=\"h4\")\n",
    "\n",
    "y_sigmoid = tf.nn.sigmoid(y_hat)\n",
    "y_ = tf.nn.softmax(y_hat)\n",
    "\n",
    "init = tf.global_variables_initializer()"
   ]
  },
  {
   "cell_type": "code",
   "execution_count": 53,
   "metadata": {},
   "outputs": [
    {
     "name": "stdout",
     "output_type": "stream",
     "text": [
      "INFO:tensorflow:Restoring parameters from model_adam.ckpt\n"
     ]
    }
   ],
   "source": [
    "saver = tf.train.Saver()\n",
    "sess = tf.Session()\n",
    "sess.run(init)\n",
    "saver.restore(sess, 'model_adam.ckpt')"
   ]
  },
  {
   "cell_type": "code",
   "execution_count": 54,
   "metadata": {},
   "outputs": [],
   "source": [
    "app = Flask(__name__)\n",
    "app.config['UPLOAD_FOLDER'] = './upload'\n",
    "app.config['MAX_CONTENT_LENGTH'] = 16 * 1024 * 1024"
   ]
  },
  {
   "cell_type": "code",
   "execution_count": 55,
   "metadata": {},
   "outputs": [],
   "source": [
    "@app.route('/upload', methods=['POST'])\n",
    "def upload_file():\n",
    "    if 'file' not in request.files:\n",
    "        return ''\n",
    "    file = request.files['file']\n",
    "    if file.filename == '':\n",
    "        return ''\n",
    "    audio_file = os.path.join(app.config['UPLOAD_FOLDER'], file.filename)\n",
    "    file.save(audio_file)\n",
    "    mfccs, chroma, mel, contrast,tonnetz = extract_feature(audio_file)\n",
    "    x_data = np.hstack([mfccs,chroma,mel,contrast,tonnetz])\n",
    "    y_hat, sigmoid = sess.run([y_, y_sigmoid], feed_dict={X: x_data.reshape(1,-1)})\n",
    "    index = np.argmax(y_hat)\n",
    "    print(sigmoid)\n",
    "    return '%d' % (index)"
   ]
  },
  {
   "cell_type": "code",
   "execution_count": null,
   "metadata": {},
   "outputs": [],
   "source": []
  },
  {
   "cell_type": "code",
   "execution_count": null,
   "metadata": {},
   "outputs": [],
   "source": []
  }
 ],
 "metadata": {
  "kernelspec": {
   "display_name": "356",
   "language": "python",
   "name": "356"
  },
  "language_info": {
   "codemirror_mode": {
    "name": "ipython",
    "version": 3
   },
   "file_extension": ".py",
   "mimetype": "text/x-python",
   "name": "python",
   "nbconvert_exporter": "python",
   "pygments_lexer": "ipython3",
   "version": "3.5.6"
  }
 },
 "nbformat": 4,
 "nbformat_minor": 2
}
