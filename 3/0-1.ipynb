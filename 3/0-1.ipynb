{
 "cells": [
  {
   "cell_type": "markdown",
   "metadata": {},
   "source": [
    "ffmpeg 라이브러리는 리눅스 환경에서 sound 및 video 실행 및 분석에 매우 유용하다.\n",
    "\n",
    "일반적으로 pip install ffmpeg로 설치하면 리눅스 환경에는 적용 되지만 파이썬에는 적용이 안됨.\n",
    "\n",
    "pip install ffmpeg-python으로 설치하거나 본인처럼 가상환경에서는 conda install ffmpeg-python\n",
    "\n",
    "으로 설치해도 무방하다. 가상환경의 경우 conda명령어를 추천한다."
   ]
  },
  {
   "cell_type": "code",
   "execution_count": 135,
   "metadata": {},
   "outputs": [],
   "source": [
    "import os\n",
    "import librosa\n",
    "import librosa.display\n",
    "import ffmpeg\n",
    "import glob\n",
    "import matplotlib.pyplot as plt\n",
    "import numpy as np"
   ]
  },
  {
   "cell_type": "code",
   "execution_count": 136,
   "metadata": {},
   "outputs": [],
   "source": [
    "def extract_feature(file_name):\n",
    "    X, sample_rate = librosa.load(file_name)\n",
    "    stft = np.abs(librosa.stft(X))\n",
    "    mfccs = np.mean(librosa.feature.mfcc(y=X, sr=sample_rate, n_mfcc=40).T,axis=0)\n",
    "    chroma = np.mean(librosa.feature.chroma_stft(S=stft, sr=sample_rate).T,axis=0)\n",
    "    mel = np.mean(librosa.feature.melspectrogram(X, sr=sample_rate).T,axis=0)\n",
    "    contrast = np.mean(librosa.feature.spectral_contrast(S=stft, sr=sample_rate).T,axis=0)\n",
    "    tonnetz = np.mean(librosa.feature.tonnetz(y=librosa.effects.harmonic(X), sr=sample_rate).T,axis=0)\n",
    "\n",
    "    \"\"\"\n",
    "    plt.figure(figsize=(12, 8))\n",
    "\n",
    "    D = librosa.amplitude_to_db(np.abs(librosa.stft(X)), ref=np.max)\n",
    "    plt.subplot(4, 2, 1)\n",
    "    librosa.display.specshow(D, y_axis='linear')\n",
    "    plt.colorbar(format='%+2.0f dB')\n",
    "    plt.title('Linear-frequency power spectrogram')\n",
    "    \n",
    "    # Or on a logarithmic scale\n",
    "    \n",
    "    plt.subplot(4, 2, 2)\n",
    "    librosa.display.specshow(D, y_axis='log')\n",
    "    plt.colorbar(format='%+2.0f dB')\n",
    "    plt.title('Log-frequency power spectrogram')\n",
    "    \n",
    "    # Or use a CQT scale\n",
    "    \n",
    "    CQT = librosa.amplitude_to_db(np.abs(librosa.cqt(X, sr=sr)), ref=np.max)\n",
    "    plt.subplot(4, 2, 3)\n",
    "    librosa.display.specshow(CQT, y_axis='cqt_note')\n",
    "    plt.colorbar(format='%+2.0f dB')\n",
    "    plt.title('Constant-Q power spectrogram (note)')\n",
    "    \n",
    "    plt.subplot(4, 2, 4)\n",
    "    librosa.display.specshow(CQT, y_axis='cqt_hz')\n",
    "    plt.colorbar(format='%+2.0f dB')\n",
    "    plt.title('Constant-Q power spectrogram (Hz)')\n",
    "    \n",
    "    # Draw a chromagram with pitch classes\n",
    "    \n",
    "    C = librosa.feature.chroma_cqt(X=X, sr=sr)\n",
    "    plt.subplot(4, 2, 5)\n",
    "    librosa.display.specshow(C, y_axis='chroma')\n",
    "    plt.colorbar()\n",
    "    plt.title('Chromagram')\n",
    "    \n",
    "    # Force a grayscale colormap (white -> black)\n",
    "    \n",
    "    plt.subplot(4, 2, 6)\n",
    "    librosa.display.specshow(D, cmap='gray_r', y_axis='linear')\n",
    "    plt.colorbar(format='%+2.0f dB')\n",
    "    plt.title('Linear power spectrogram (grayscale)')\n",
    "    \n",
    "    # Draw time markers automatically\n",
    "    \n",
    "    plt.subplot(4, 2, 7)\n",
    "    librosa.display.specshow(D, x_axis='time', y_axis='log')\n",
    "    plt.colorbar(format='%+2.0f dB')\n",
    "    plt.title('Log power spectrogram')\n",
    "    \n",
    "    # Draw a tempogram with BPM markers\n",
    "    \n",
    "    plt.subplot(4, 2, 8)\n",
    "    Tgram = librosa.feature.tempogram(X=X, sr=sr)\n",
    "    librosa.display.specshow(Tgram, x_axis='time', y_axis='tempo')\n",
    "    plt.colorbar()\n",
    "    plt.title('Tempogram')\n",
    "    plt.tight_layout()\n",
    "    plt.show()\n",
    "    \n",
    "    # Draw beat-synchronous chroma in natural time\n",
    "    \n",
    "    plt.figure()\n",
    "    tempo, beat_f = librosa.beat.beat_track(X=X, sr=sr, trim=False)\n",
    "    beat_f = librosa.util.fix_frames(beat_f, x_max=C.shape[1])\n",
    "    Csync = librosa.util.sync(C, beat_f, aggregate=np.median)\n",
    "    beat_t = librosa.frames_to_time(beat_f, sr=sr)\n",
    "    ax1 = plt.subplot(2,1,1)\n",
    "    librosa.display.specshow(C, y_axis='chroma', x_axis='time')\n",
    "    plt.title('Chroma (linear time)')\n",
    "    ax2 = plt.subplot(2,1,2, sharex=ax1)\n",
    "    librosa.display.specshow(Csync, y_axis='chroma', x_axis='time',\n",
    "                             x_coords=beat_t)\n",
    "    plt.title('Chroma (beat time)')\n",
    "    plt.tight_layout()\n",
    "    plt.show()\n",
    "    \"\"\"\n",
    "    \n",
    "    return mfccs,chroma,mel,contrast,tonnetz"
   ]
  },
  {
   "cell_type": "code",
   "execution_count": 137,
   "metadata": {},
   "outputs": [],
   "source": [
    "def parse_audio_files(filenames):\n",
    "    rows = len(filenames)\n",
    "    features, labels, groups = np.zeros((rows,193)), np.zeros((rows,3)), np.zeros((rows, 1))\n",
    "    i = 0\n",
    "    for fn in filenames:\n",
    "        try:\n",
    "            mfccs, chroma, mel, contrast,tonnetz = extract_feature(fn)\n",
    "            ext_features = np.hstack([mfccs,chroma,mel,contrast,tonnetz])\n",
    "            y_col = int(fn.split('/')[3].split('-')[1])\n",
    "            group = int(fn.split('/')[3].split('-')[0])\n",
    "        except:\n",
    "            print(fn)\n",
    "        else:\n",
    "            features[i] = ext_features\n",
    "            labels[i, y_col] = 1\n",
    "            groups[i] = group\n",
    "            i += 1\n",
    "    return features, labels, groups"
   ]
  },
  {
   "cell_type": "code",
   "execution_count": 138,
   "metadata": {},
   "outputs": [],
   "source": [
    "audio_files = []\n",
    "for i in range(1,11):\n",
    "    audio_files.extend(glob.glob('/home/monn/3/fold%d/*.wav' % i))"
   ]
  },
  {
   "cell_type": "code",
   "execution_count": 134,
   "metadata": {},
   "outputs": [
    {
     "name": "stdout",
     "output_type": "stream",
     "text": [
      "9\n",
      "/home/monn/3/fold1/1234-0-0-1.wav\n",
      "/home/monn/3/fold1/1234-0-0-2.wav\n",
      "/home/monn/3/fold1/1234-0-0-0.wav\n",
      "/home/monn/3/fold2/1235-1-0-1.wav\n",
      "/home/monn/3/fold2/1235-1-0-2.wav\n",
      "/home/monn/3/fold2/1235-1-0-0.wav\n",
      "/home/monn/3/fold3/6988-3-0-2.wav\n",
      "/home/monn/3/fold3/6988-3-0-0.wav\n",
      "/home/monn/3/fold3/6988-3-0-1.wav\n"
     ]
    }
   ],
   "source": [
    "print(len(audio_files))\n",
    "for i in range(9):\n",
    "    files = audio_files[i*1000: (i+1)*1000]\n",
    "    X, y, groups = parse_audio_files(files)\n",
    "    for r in y:\n",
    "        if np.sum(r) > 1.5:\n",
    "            print('error occured')\n",
    "            break\n",
    "    np.savez('urban_sound_%d' % i, X=X, y=y, groups=groups)"
   ]
  },
  {
   "cell_type": "code",
   "execution_count": 13,
   "metadata": {},
   "outputs": [],
   "source": [
    "import librosa\n",
    "import librosa.display\n",
    "import numpy as np\n",
    "import matplotlib.pyplot as plt"
   ]
  },
  {
   "cell_type": "code",
   "execution_count": 14,
   "metadata": {},
   "outputs": [],
   "source": [
    "frame_length = 0.025\n",
    "frame_stride = 0.010"
   ]
  },
  {
   "cell_type": "code",
   "execution_count": 25,
   "metadata": {},
   "outputs": [
    {
     "data": {
      "text/plain": [
       "Text(0.5,1,'Log-frequency power spectrogram')"
      ]
     },
     "execution_count": 25,
     "metadata": {},
     "output_type": "execute_result"
    },
    {
     "data": {
      "image/png": "[encoded data removed]",
      "text/plain": [
       "<Figure size 864x576 with 4 Axes>"
      ]
     },
     "metadata": {
      "needs_background": "light"
     },
     "output_type": "display_data"
    }
   ],
   "source": [
    "import matplotlib.pyplot as plt\n",
    "y, sr = librosa.load('/home/monn/3/fold1/1234-0-0-0.wav')\n",
    "plt.figure(figsize=(12, 8))\n",
    "\n",
    "D = librosa.amplitude_to_db(np.abs(librosa.stft(y)), ref=np.max)\n",
    "plt.subplot(4, 2, 1)\n",
    "librosa.display.specshow(D, y_axis='linear')\n",
    "plt.colorbar(format='%+2.0f dB')\n",
    "plt.title('Linear-frequency power spectrogram')\n",
    "\n",
    "plt.subplot(4, 2, 2)\n",
    "librosa.display.specshow(D, y_axis='log')\n",
    "plt.colorbar(format='%+2.0f dB')\n",
    "plt.title('Log-frequency power spectrogram')"
   ]
  },
  {
   "cell_type": "code",
   "execution_count": null,
   "metadata": {},
   "outputs": [],
   "source": []
  }
 ],
 "metadata": {
  "kernelspec": {
   "display_name": "356",
   "language": "python",
   "name": "356"
  },
  "language_info": {
   "codemirror_mode": {
    "name": "ipython",
    "version": 3
   },
   "file_extension": ".py",
   "mimetype": "text/x-python",
   "name": "python",
   "nbconvert_exporter": "python",
   "pygments_lexer": "ipython3",
   "version": "3.5.6"
  }
 },
 "nbformat": 4,
 "nbformat_minor": 2
}
