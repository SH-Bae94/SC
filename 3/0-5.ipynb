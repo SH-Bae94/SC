{
 "cells": [
  {
   "cell_type": "code",
   "execution_count": 8,
   "metadata": {},
   "outputs": [
    {
     "name": "stdout",
     "output_type": "stream",
     "text": [
      "The watermark extension is already loaded. To reload it, use:\n",
      "  %reload_ext watermark\n",
      "CPython 3.5.6\n",
      "IPython 7.7.0\n",
      "\n",
      "numpy 1.15.2\n",
      "sklearn 0.20.0\n",
      "tensorflow 1.14.0\n",
      "\n",
      "compiler   : GCC 7.3.0\n",
      "system     : Linux\n",
      "release    : 4.15.0-60-generic\n",
      "machine    : x86_64\n",
      "processor  : x86_64\n",
      "CPU cores  : 4\n",
      "interpreter: 64bit\n"
     ]
    }
   ],
   "source": [
    "%matplotlib inline\n",
    "%load_ext watermark\n",
    "%watermark -v -m -p numpy,sklearn,tensorflow"
   ]
  },
  {
   "cell_type": "code",
   "execution_count": 9,
   "metadata": {},
   "outputs": [],
   "source": [
    "import matplotlib.pyplot as plt\n",
    "import numpy as np\n",
    "import tensorflow as tf"
   ]
  },
  {
   "cell_type": "code",
   "execution_count": 10,
   "metadata": {},
   "outputs": [
    {
     "data": {
      "text/plain": [
       "((9, 193), (9, 3))"
      ]
     },
     "execution_count": 10,
     "metadata": {},
     "output_type": "execute_result"
    }
   ],
   "source": [
    "sound_names = [\"amino acid sample\", \"amino acid standard\", \"else\"]\n",
    "sound_data = np.load('urban_sound.npz')\n",
    "X_test= sound_data['X']\n",
    "y_test = sound_data['y']\n",
    "X_test.shape, y_test.shape"
   ]
  },
  {
   "cell_type": "code",
   "execution_count": 11,
   "metadata": {},
   "outputs": [],
   "source": [
    "training_epochs = 100\n",
    "n_dim = 193\n",
    "n_classes = 3\n",
    "learning_rate = 0.01"
   ]
  },
  {
   "cell_type": "code",
   "execution_count": 39,
   "metadata": {},
   "outputs": [],
   "source": [
    "g1 = tf.Graph()\n",
    "with g1.as_default():\n",
    "    X = tf.placeholder(tf.float32, [None, n_dim])\n",
    "    Y = tf.placeholder(tf.float32, [None, n_classes])\n",
    "\n",
    "    c1 = tf.layers.conv2d(tf.reshape(X, [-1, 1, n_dim, 1]), 50, (1, 5), padding='same', \n",
    "                          activation=tf.nn.sigmoid, name=\"c1\")\n",
    "    p1 = tf.layers.max_pooling2d(inputs=c1, pool_size=[1, 2], strides=2)\n",
    "    c2 = tf.layers.conv2d(tf.reshape(p1, [-1, 1, 96, 50]), 100, (1, 5), padding='same', \n",
    "                          activation=tf.nn.sigmoid, name=\"c2\")\n",
    "    p2 = tf.layers.max_pooling2d(inputs=c2, pool_size=[1, 2], strides=2)\n",
    "\n",
    "    h_p = tf.reshape(p2, [-1, 48*100])\n",
    "\n",
    "    h_1 = tf.layers.dense(inputs=h_p, units=4800, activation=tf.nn.sigmoid,\n",
    "                          kernel_initializer=tf.contrib.layers.xavier_initializer(), name=\"fc1\")\n",
    "\n",
    "    y_hat = tf.layers.dense(inputs=h_1, units=n_classes,\n",
    "                            kernel_initializer=tf.contrib.layers.xavier_initializer(), \n",
    "                            name=\"h4\")\n",
    "\n",
    "    correct_prediction = tf.equal(tf.argmax(y_hat,1), tf.argmax(Y,1))\n",
    "    accuracy = tf.reduce_mean(tf.cast(correct_prediction, tf.float32))\n",
    "\n",
    "    init = tf.global_variables_initializer()\n",
    "    saver = tf.train.Saver()"
   ]
  },
  {
   "cell_type": "code",
   "execution_count": 68,
   "metadata": {},
   "outputs": [
    {
     "name": "stdout",
     "output_type": "stream",
     "text": [
      "INFO:tensorflow:Restoring parameters from model_adam.ckpt\n",
      "Test accuracy:  0.0\n"
     ]
    }
   ],
   "source": [
    "with tf.Session(graph=g1) as sess:\n",
    "    sess.run(init)\n",
    "    saver.restore(sess, 'model_adam.ckpt')\n",
    "    print('Test accuracy: ',round(sess.run(accuracy, feed_dict={X: X_test, Y: y_test}) , 3))"
   ]
  },
  {
   "cell_type": "code",
   "execution_count": null,
   "metadata": {},
   "outputs": [],
   "source": []
  },
  {
   "cell_type": "code",
   "execution_count": null,
   "metadata": {},
   "outputs": [],
   "source": []
  }
 ],
 "metadata": {
  "kernelspec": {
   "display_name": "356",
   "language": "python",
   "name": "356"
  },
  "language_info": {
   "codemirror_mode": {
    "name": "ipython",
    "version": 3
   },
   "file_extension": ".py",
   "mimetype": "text/x-python",
   "name": "python",
   "nbconvert_exporter": "python",
   "pygments_lexer": "ipython3",
   "version": "3.5.6"
  }
 },
 "nbformat": 4,
 "nbformat_minor": 2
}
