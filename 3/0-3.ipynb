{
 "cells": [
  {
   "cell_type": "code",
   "execution_count": 1,
   "metadata": {},
   "outputs": [],
   "source": [
    "import numpy as np\n",
    "from sklearn.model_selection import GroupShuffleSplit"
   ]
  },
  {
   "cell_type": "code",
   "execution_count": 2,
   "metadata": {},
   "outputs": [
    {
     "name": "stdout",
     "output_type": "stream",
     "text": [
      "[]\n"
     ]
    }
   ],
   "source": [
    "sound_data = np.load('urban_sound.npz')\n",
    "X_data = sound_data['X']\n",
    "y_data = sound_data['y']\n",
    "groups = sound_data['groups']\n",
    "\n",
    "print(groups[groups > 0])"
   ]
  },
  {
   "cell_type": "code",
   "execution_count": 3,
   "metadata": {},
   "outputs": [
    {
     "name": "stdout",
     "output_type": "stream",
     "text": [
      "(0, 193) (12, 193)\n"
     ]
    }
   ],
   "source": [
    "gss = GroupShuffleSplit(n_splits=1, test_size=0.2)\n",
    "for train_idx, test_idx in gss.split(X_data, y_data, groups=groups):\n",
    "    X_train = X_data[train_idx]\n",
    "    y_train = y_data[train_idx]\n",
    "    groups_train = groups[train_idx]\n",
    "\n",
    "    X_test = X_data[test_idx]\n",
    "    y_test = y_data[test_idx]\n",
    "    groups_test = groups[test_idx]\n",
    "    \n",
    "    print(X_train.shape, X_test.shape)"
   ]
  },
  {
   "cell_type": "code",
   "execution_count": 4,
   "metadata": {},
   "outputs": [
    {
     "name": "stdout",
     "output_type": "stream",
     "text": [
      "saved train and test\n"
     ]
    }
   ],
   "source": [
    "np.savez('urban_sound_train', X=X_train, y=y_train, groups=groups_train)\n",
    "np.savez('urban_sound_test', X=X_test, y=y_test, groups=groups_test)\n",
    "\n",
    "print('saved train and test')"
   ]
  },
  {
   "cell_type": "code",
   "execution_count": null,
   "metadata": {},
   "outputs": [],
   "source": []
  }
 ],
 "metadata": {
  "kernelspec": {
   "display_name": "356",
   "language": "python",
   "name": "356"
  },
  "language_info": {
   "codemirror_mode": {
    "name": "ipython",
    "version": 3
   },
   "file_extension": ".py",
   "mimetype": "text/x-python",
   "name": "python",
   "nbconvert_exporter": "python",
   "pygments_lexer": "ipython3",
   "version": "3.5.6"
  }
 },
 "nbformat": 4,
 "nbformat_minor": 2
}
