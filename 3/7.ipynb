{
 "cells": [
  {
   "cell_type": "code",
   "execution_count": 1,
   "metadata": {},
   "outputs": [],
   "source": [
    "import wave\n",
    "import struct\n",
    "import sys\n",
    "import csv\n",
    "import numpy \n",
    "from scipy.io import wavfile\n",
    "from scipy.signal import resample"
   ]
  },
  {
   "cell_type": "code",
   "execution_count": 6,
   "metadata": {},
   "outputs": [],
   "source": [
    "def write_wav(data, filename, framerate, amplitude):\n",
    "    wavfile = wave.open(standard1,'w')\n",
    "    nchannels = 1\n",
    "    sampwidth = 2\n",
    "    framerate = framerate\n",
    "    nframes = len(data)\n",
    "    comptype = \"NONE\"\n",
    "    compname = \"not compressed\"\n",
    "    wavfile.setparams((nchannels,\n",
    "                        sampwidth,\n",
    "                        framerate,\n",
    "                        nframes,\n",
    "                        comptype,\n",
    "                        compname))\n",
    "    frames = []\n",
    "    for s in data:\n",
    "        mul = int(s * amplitude)\n",
    "        frames.append(struct.pack('h', mul))\n",
    "\n",
    "    frames = ''.join(frames)\n",
    "    wavfile.writeframes(frames)\n",
    "    wavfile.close()\n",
    "    print(\"%s written\" %(filename))"
   ]
  },
  {
   "cell_type": "code",
   "execution_count": 7,
   "metadata": {},
   "outputs": [
    {
     "name": "stderr",
     "output_type": "stream",
     "text": [
      "/home/monn/anaconda3/envs/356/lib/python3.5/site-packages/ipykernel_launcher.py:8: DeprecationWarning: 'U' mode is deprecated\n",
      "  \n"
     ]
    },
    {
     "ename": "FileNotFoundError",
     "evalue": "[Errno 2] No such file or directory: '-f'",
     "output_type": "error",
     "traceback": [
      "\u001b[0;31m---------------------------------------------------------------------------\u001b[0m",
      "\u001b[0;31mFileNotFoundError\u001b[0m                         Traceback (most recent call last)",
      "\u001b[0;32m<ipython-input-7-5b4d8ff3b75a>\u001b[0m in \u001b[0;36m<module>\u001b[0;34m\u001b[0m\n\u001b[1;32m      6\u001b[0m \u001b[0;34m\u001b[0m\u001b[0m\n\u001b[1;32m      7\u001b[0m         \u001b[0mdata\u001b[0m \u001b[0;34m=\u001b[0m \u001b[0;34m[\u001b[0m\u001b[0;34m]\u001b[0m\u001b[0;34m\u001b[0m\u001b[0m\n\u001b[0;32m----> 8\u001b[0;31m         \u001b[0;32mfor\u001b[0m \u001b[0mtime\u001b[0m\u001b[0;34m,\u001b[0m \u001b[0mvalue\u001b[0m \u001b[0;32min\u001b[0m \u001b[0mcsv\u001b[0m\u001b[0;34m.\u001b[0m\u001b[0mreader\u001b[0m\u001b[0;34m(\u001b[0m\u001b[0mopen\u001b[0m\u001b[0;34m(\u001b[0m\u001b[0mfname\u001b[0m\u001b[0;34m,\u001b[0m \u001b[0;34m'U'\u001b[0m\u001b[0;34m)\u001b[0m\u001b[0;34m,\u001b[0m \u001b[0mdelimiter\u001b[0m\u001b[0;34m=\u001b[0m\u001b[0;34m','\u001b[0m\u001b[0;34m)\u001b[0m\u001b[0;34m:\u001b[0m\u001b[0;34m\u001b[0m\u001b[0m\n\u001b[0m\u001b[1;32m      9\u001b[0m             \u001b[0;32mtry\u001b[0m\u001b[0;34m:\u001b[0m\u001b[0;34m\u001b[0m\u001b[0m\n\u001b[1;32m     10\u001b[0m                 \u001b[0mdata\u001b[0m\u001b[0;34m.\u001b[0m\u001b[0mappend\u001b[0m\u001b[0;34m(\u001b[0m\u001b[0mfloat\u001b[0m\u001b[0;34m(\u001b[0m\u001b[0mvalue\u001b[0m\u001b[0;34m)\u001b[0m\u001b[0;34m)\u001b[0m\u001b[0;31m#Here you can see that the time column is skipped\u001b[0m\u001b[0;34m\u001b[0m\u001b[0m\n",
      "\u001b[0;31mFileNotFoundError\u001b[0m: [Errno 2] No such file or directory: '-f'"
     ]
    }
   ],
   "source": [
    "if __name__ == \"__main__\":\n",
    "    if len(sys.argv) <= 1:\n",
    "        print (\"You must supply a filename to generate\")\n",
    "        exit(-1)\n",
    "    for fname in sys.argv[1:]:\n",
    "\n",
    "        data = []\n",
    "        for time, value in csv.reader(open(fname, 'U'), delimiter=','):\n",
    "            try:\n",
    "                data.append(float(value))#Here you can see that the time column is skipped\n",
    "            except ValueError:\n",
    "                pass # Just skip it\n",
    "        arr = numpy.array(data)#Just organize all your samples into an array\n",
    "        # Normalize data\n",
    "        arr /= numpy.max(numpy.abs(data)) #Divide all your samples by the max sample value\n",
    "        filename_head, extension = fname.rsplit(\".\", 1)        \n",
    "        data_resampled = resample( arr, len(data) )\n",
    "        wavfile.write('rec.wav', 16000, data_resampled) #resampling at 16khz\n",
    "        print (\"File written succesfully !\")"
   ]
  }
 ],
 "metadata": {
  "kernelspec": {
   "display_name": "356",
   "language": "python",
   "name": "356"
  },
  "language_info": {
   "codemirror_mode": {
    "name": "ipython",
    "version": 3
   },
   "file_extension": ".py",
   "mimetype": "text/x-python",
   "name": "python",
   "nbconvert_exporter": "python",
   "pygments_lexer": "ipython3",
   "version": "3.5.6"
  }
 },
 "nbformat": 4,
 "nbformat_minor": 2
}
