{
 "cells": [
  {
   "cell_type": "code",
   "execution_count": 89,
   "metadata": {},
   "outputs": [],
   "source": [
    "import glob\n",
    "import numpy as np"
   ]
  },
  {
   "cell_type": "code",
   "execution_count": 90,
   "metadata": {},
   "outputs": [],
   "source": [
    "X = np.empty((0, 193))\n",
    "y = np.empty((0, 3))\n",
    "groups = np.empty((0, 1))\n",
    "npz_files = glob.glob('./urban_sound_?.npz')"
   ]
  },
  {
   "cell_type": "code",
   "execution_count": 91,
   "metadata": {},
   "outputs": [
    {
     "name": "stdout",
     "output_type": "stream",
     "text": [
      "./urban_sound_0.npz\n",
      "[]\n",
      "./urban_sound_2.npz\n",
      "[]\n",
      "./urban_sound_6.npz\n",
      "[]\n",
      "./urban_sound_8.npz\n",
      "[]\n",
      "./urban_sound_4.npz\n",
      "[]\n",
      "./urban_sound_7.npz\n",
      "[]\n",
      "./urban_sound_5.npz\n",
      "[]\n",
      "./urban_sound_3.npz\n",
      "[]\n",
      "./urban_sound_1.npz\n",
      "[]\n"
     ]
    }
   ],
   "source": [
    "for fn in npz_files:\n",
    "    print(fn)\n",
    "    data = np.load(fn)\n",
    "    X = np.append(X, data['X'], axis=0)\n",
    "    y = np.append(y, data['y'], axis=0)\n",
    "    groups = np.append(groups, data['groups'], axis=0)\n",
    "    \n",
    "    print(groups[groups>0])"
   ]
  },
  {
   "cell_type": "code",
   "execution_count": 92,
   "metadata": {},
   "outputs": [
    {
     "name": "stdout",
     "output_type": "stream",
     "text": [
      "(9, 193) (9, 3)\n"
     ]
    }
   ],
   "source": [
    "print(X.shape, y.shape)\n",
    "for r in y:\n",
    "    if np.sum(r) > 1.5:\n",
    "        print(r)\n",
    "np.savez('urban_sound', X=X, y=y, groups=groups)"
   ]
  },
  {
   "cell_type": "code",
   "execution_count": null,
   "metadata": {},
   "outputs": [],
   "source": []
  }
 ],
 "metadata": {
  "kernelspec": {
   "display_name": "356",
   "language": "python",
   "name": "356"
  },
  "language_info": {
   "codemirror_mode": {
    "name": "ipython",
    "version": 3
   },
   "file_extension": ".py",
   "mimetype": "text/x-python",
   "name": "python",
   "nbconvert_exporter": "python",
   "pygments_lexer": "ipython3",
   "version": "3.5.6"
  }
 },
 "nbformat": 4,
 "nbformat_minor": 2
}
