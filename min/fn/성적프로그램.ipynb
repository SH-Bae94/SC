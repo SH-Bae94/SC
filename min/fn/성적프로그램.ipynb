{
 "cells": [
  {
   "cell_type": "code",
   "execution_count": 8,
   "metadata": {},
   "outputs": [
    {
     "data": {
      "text/html": [
       "<div>\n",
       "<style scoped>\n",
       "    .dataframe tbody tr th:only-of-type {\n",
       "        vertical-align: middle;\n",
       "    }\n",
       "\n",
       "    .dataframe tbody tr th {\n",
       "        vertical-align: top;\n",
       "    }\n",
       "\n",
       "    .dataframe thead th {\n",
       "        text-align: right;\n",
       "    }\n",
       "</style>\n",
       "<table border=\"1\" class=\"dataframe\">\n",
       "  <thead>\n",
       "    <tr style=\"text-align: right;\">\n",
       "      <th></th>\n",
       "      <th>이름</th>\n",
       "      <th>학번</th>\n",
       "      <th>국어</th>\n",
       "      <th>수학</th>\n",
       "      <th>영어</th>\n",
       "      <th>합계</th>\n",
       "      <th>평균</th>\n",
       "      <th>석차</th>\n",
       "    </tr>\n",
       "  </thead>\n",
       "  <tbody>\n",
       "    <tr>\n",
       "      <td>0</td>\n",
       "      <td>홍길동</td>\n",
       "      <td>1</td>\n",
       "      <td>90</td>\n",
       "      <td>85</td>\n",
       "      <td>60</td>\n",
       "      <td>NaN</td>\n",
       "      <td>NaN</td>\n",
       "      <td>NaN</td>\n",
       "    </tr>\n",
       "    <tr>\n",
       "      <td>1</td>\n",
       "      <td>강감찬</td>\n",
       "      <td>2</td>\n",
       "      <td>85</td>\n",
       "      <td>75</td>\n",
       "      <td>65</td>\n",
       "      <td>NaN</td>\n",
       "      <td>NaN</td>\n",
       "      <td>NaN</td>\n",
       "    </tr>\n",
       "    <tr>\n",
       "      <td>2</td>\n",
       "      <td>나원참</td>\n",
       "      <td>3</td>\n",
       "      <td>78</td>\n",
       "      <td>83</td>\n",
       "      <td>95</td>\n",
       "      <td>NaN</td>\n",
       "      <td>NaN</td>\n",
       "      <td>NaN</td>\n",
       "    </tr>\n",
       "    <tr>\n",
       "      <td>3</td>\n",
       "      <td>이순신</td>\n",
       "      <td>4</td>\n",
       "      <td>90</td>\n",
       "      <td>95</td>\n",
       "      <td>90</td>\n",
       "      <td>NaN</td>\n",
       "      <td>NaN</td>\n",
       "      <td>NaN</td>\n",
       "    </tr>\n",
       "    <tr>\n",
       "      <td>4</td>\n",
       "      <td>나홀로</td>\n",
       "      <td>5</td>\n",
       "      <td>88</td>\n",
       "      <td>72</td>\n",
       "      <td>70</td>\n",
       "      <td>NaN</td>\n",
       "      <td>NaN</td>\n",
       "      <td>NaN</td>\n",
       "    </tr>\n",
       "  </tbody>\n",
       "</table>\n",
       "</div>"
      ],
      "text/plain": [
       "    이름  학번  국어  수학  영어  합계  평균  석차\n",
       "0  홍길동   1  90  85  60 NaN NaN NaN\n",
       "1  강감찬   2  85  75  65 NaN NaN NaN\n",
       "2  나원참   3  78  83  95 NaN NaN NaN\n",
       "3  이순신   4  90  95  90 NaN NaN NaN\n",
       "4  나홀로   5  88  72  70 NaN NaN NaN"
      ]
     },
     "execution_count": 8,
     "metadata": {},
     "output_type": "execute_result"
    }
   ],
   "source": [
    "import pandas as pd\n",
    "df = pd.read_csv('Csvtest.csv', encoding='euc-kr')\n",
    "df.head()"
   ]
  },
  {
   "cell_type": "code",
   "execution_count": 9,
   "metadata": {},
   "outputs": [
    {
     "name": "stdout",
     "output_type": "stream",
     "text": [
      "    이름  학번  국어  수학  영어  합계  평균  석차\n",
      "0  홍길동   1  90  85  60 NaN NaN NaN\n"
     ]
    }
   ],
   "source": [
    "category = df.groupby('이름')\n",
    "grouped_by_category = df.groupby('이름')\n",
    "gildong = grouped_by_category.get_group('홍길동')\n",
    "print(gildong)"
   ]
  },
  {
   "cell_type": "code",
   "execution_count": 10,
   "metadata": {},
   "outputs": [
    {
     "name": "stdout",
     "output_type": "stream",
     "text": [
      "0    90\n",
      "1    85\n",
      "2    78\n",
      "3    90\n",
      "4    88\n",
      "5    88\n",
      "6    69\n",
      "7    79\n",
      "8    88\n",
      "9    88\n",
      "Name: 국어, dtype: int64\n",
      "0    85\n",
      "1    75\n",
      "2    83\n",
      "3    95\n",
      "4    72\n",
      "5    92\n",
      "6    78\n",
      "7    96\n",
      "8    56\n",
      "9    96\n",
      "Name: 수학, dtype: int64\n",
      "0    60\n",
      "1    65\n",
      "2    95\n",
      "3    90\n",
      "4    70\n",
      "5    99\n",
      "6    77\n",
      "7    90\n",
      "8    45\n",
      "9    66\n",
      "Name: 영어, dtype: int64\n"
     ]
    }
   ],
   "source": [
    "a = df[\"국어\"]\n",
    "b = df[\"수학\"]\n",
    "c = df[\"영어\"]\n",
    "\n",
    "print(a)\n",
    "print(b)\n",
    "print(c)"
   ]
  },
  {
   "cell_type": "code",
   "execution_count": 11,
   "metadata": {},
   "outputs": [
    {
     "name": "stdout",
     "output_type": "stream",
     "text": [
      "0    235\n",
      "1    225\n",
      "2    256\n",
      "3    275\n",
      "4    230\n",
      "5    279\n",
      "6    224\n",
      "7    265\n",
      "8    189\n",
      "9    250\n",
      "dtype: int64\n"
     ]
    }
   ],
   "source": [
    "sum = a+b+c\n",
    "print(sum)"
   ]
  },
  {
   "cell_type": "code",
   "execution_count": 12,
   "metadata": {},
   "outputs": [
    {
     "name": "stdout",
     "output_type": "stream",
     "text": [
      "0    78.333333\n",
      "1    75.000000\n",
      "2    85.333333\n",
      "3    91.666667\n",
      "4    76.666667\n",
      "5    93.000000\n",
      "6    74.666667\n",
      "7    88.333333\n",
      "8    63.000000\n",
      "9    83.333333\n",
      "dtype: float64\n"
     ]
    }
   ],
   "source": [
    "mean = sum/3\n",
    "print(mean)"
   ]
  },
  {
   "cell_type": "code",
   "execution_count": 13,
   "metadata": {},
   "outputs": [
    {
     "name": "stdout",
     "output_type": "stream",
     "text": [
      "    이름  학번  국어  수학  영어   합계  평균  석차\n",
      "0  홍길동   1  90  85  60  235 NaN NaN\n",
      "1  강감찬   2  85  75  65  225 NaN NaN\n",
      "2  나원참   3  78  83  95  256 NaN NaN\n",
      "3  이순신   4  90  95  90  275 NaN NaN\n",
      "4  나홀로   5  88  72  70  230 NaN NaN\n",
      "5  태평양   6  88  92  99  279 NaN NaN\n",
      "6  대서양   7  69  78  77  224 NaN NaN\n",
      "7  인도양   8  79  96  90  265 NaN NaN\n",
      "8  백두산   9  88  56  45  189 NaN NaN\n",
      "9  한라산  10  88  96  66  250 NaN NaN\n"
     ]
    }
   ],
   "source": [
    "df['합계'] = sum\n",
    "print(df)"
   ]
  },
  {
   "cell_type": "code",
   "execution_count": 14,
   "metadata": {},
   "outputs": [
    {
     "name": "stdout",
     "output_type": "stream",
     "text": [
      "    이름  학번  국어  수학  영어   합계         평균  석차\n",
      "0  홍길동   1  90  85  60  235  78.333333 NaN\n",
      "1  강감찬   2  85  75  65  225  75.000000 NaN\n",
      "2  나원참   3  78  83  95  256  85.333333 NaN\n",
      "3  이순신   4  90  95  90  275  91.666667 NaN\n",
      "4  나홀로   5  88  72  70  230  76.666667 NaN\n",
      "5  태평양   6  88  92  99  279  93.000000 NaN\n",
      "6  대서양   7  69  78  77  224  74.666667 NaN\n",
      "7  인도양   8  79  96  90  265  88.333333 NaN\n",
      "8  백두산   9  88  56  45  189  63.000000 NaN\n",
      "9  한라산  10  88  96  66  250  83.333333 NaN\n"
     ]
    }
   ],
   "source": [
    "df['평균'] = mean\n",
    "print(df)"
   ]
  },
  {
   "cell_type": "code",
   "execution_count": 15,
   "metadata": {},
   "outputs": [
    {
     "name": "stdout",
     "output_type": "stream",
     "text": [
      "    이름  학번  국어  수학  영어   합계         평균    석차\n",
      "0  홍길동   1  90  85  60  235  78.333333   6.0\n",
      "1  강감찬   2  85  75  65  225  75.000000   8.0\n",
      "2  나원참   3  78  83  95  256  85.333333   4.0\n",
      "3  이순신   4  90  95  90  275  91.666667   2.0\n",
      "4  나홀로   5  88  72  70  230  76.666667   7.0\n",
      "5  태평양   6  88  92  99  279  93.000000   1.0\n",
      "6  대서양   7  69  78  77  224  74.666667   9.0\n",
      "7  인도양   8  79  96  90  265  88.333333   3.0\n",
      "8  백두산   9  88  56  45  189  63.000000  10.0\n",
      "9  한라산  10  88  96  66  250  83.333333   5.0\n"
     ]
    }
   ],
   "source": [
    "df['석차'] = df['합계'].rank(ascending=False)\n",
    "print(df)"
   ]
  },
  {
   "cell_type": "code",
   "execution_count": 18,
   "metadata": {},
   "outputs": [],
   "source": [
    "df.to_csv(r'C:\\Users\\BSH\\min\\fn\\rank.csv', encoding='euc-kr')"
   ]
  },
  {
   "cell_type": "code",
   "execution_count": null,
   "metadata": {},
   "outputs": [],
   "source": []
  }
 ],
 "metadata": {
  "kernelspec": {
   "display_name": "374",
   "language": "python",
   "name": "374"
  },
  "language_info": {
   "codemirror_mode": {
    "name": "ipython",
    "version": 3
   },
   "file_extension": ".py",
   "mimetype": "text/x-python",
   "name": "python",
   "nbconvert_exporter": "python",
   "pygments_lexer": "ipython3",
   "version": "3.7.3"
  }
 },
 "nbformat": 4,
 "nbformat_minor": 2
}
