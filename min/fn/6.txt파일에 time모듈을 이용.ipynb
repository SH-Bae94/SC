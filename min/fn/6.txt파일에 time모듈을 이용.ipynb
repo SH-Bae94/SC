{
 "cells": [
  {
   "cell_type": "code",
   "execution_count": 15,
   "metadata": {},
   "outputs": [
    {
     "name": "stdout",
     "output_type": "stream",
     "text": [
      "1571598444.882009\n"
     ]
    }
   ],
   "source": [
    "import time\n",
    "a = time.time() #a에 시간값 입력\n",
    "print(a) #a값 출력"
   ]
  },
  {
   "cell_type": "code",
   "execution_count": 16,
   "metadata": {},
   "outputs": [
    {
     "name": "stdout",
     "output_type": "stream",
     "text": [
      "10 2019\n"
     ]
    }
   ],
   "source": [
    "b = time.strftime('%m', time.localtime(time.time())) #b에 time모듈의 month를 입력\n",
    "c = time.strftime('%Y', time.localtime(time.time())) #c에 time모듈의 year를 입력\n",
    "print(b,c) #b, c값 출력"
   ]
  },
  {
   "cell_type": "code",
   "execution_count": 17,
   "metadata": {},
   "outputs": [],
   "source": [
    "outfile = open(\"6.txt\", \"a\") #6.txt파일을 열고 내용을 추가한다.\n",
    "\n",
    "outfile.write(c) #파일에 c의 값을 추가한다.\n",
    "outfile.write(b) #파일에 b의 값을 추가한다.\n",
    "\n",
    "outfile.close() #파일을 닫는다."
   ]
  },
  {
   "cell_type": "code",
   "execution_count": 18,
   "metadata": {},
   "outputs": [
    {
     "name": "stdout",
     "output_type": "stream",
     "text": [
      "201910\n"
     ]
    }
   ],
   "source": [
    "infile = open(\"6.txt\", \"r\") #6.txt파일을 열고 내용을 읽는다.\n",
    "for line in infile:\n",
    "    ilne = line.rstrip()\n",
    "    word_list = line.split()\n",
    "    for word in word_list:\n",
    "        print(word);\n",
    "infile.close()"
   ]
  },
  {
   "cell_type": "code",
   "execution_count": null,
   "metadata": {},
   "outputs": [],
   "source": []
  }
 ],
 "metadata": {
  "kernelspec": {
   "display_name": "374",
   "language": "python",
   "name": "374"
  },
  "language_info": {
   "codemirror_mode": {
    "name": "ipython",
    "version": 3
   },
   "file_extension": ".py",
   "mimetype": "text/x-python",
   "name": "python",
   "nbconvert_exporter": "python",
   "pygments_lexer": "ipython3",
   "version": "3.7.3"
  }
 },
 "nbformat": 4,
 "nbformat_minor": 2
}
