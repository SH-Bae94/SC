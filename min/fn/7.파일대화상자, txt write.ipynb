{
 "cells": [
  {
   "cell_type": "code",
   "execution_count": 1,
   "metadata": {
    "scrolled": true
   },
   "outputs": [
    {
     "name": "stdout",
     "output_type": "stream",
     "text": [
      "이름,학번,국어,수학,영어,합계,평균,석차\n",
      "홍길동,1,90,85,60\n",
      "강감찬,2,85,75,65\n",
      "나원참,3,78,83,95\n",
      "이순신,4,90,95,90\n",
      "나홀로,5,88,72,70\n",
      "태평양,6,88,92,99\n",
      "대서양,7,69,78,77\n",
      "인도양,8,79,96,90\n",
      "백두산,9,88,56,45\n",
      "한라산,10,88,96,66\n"
     ]
    }
   ],
   "source": [
    "from tkinter import *\n",
    "from tkinter.filedialog import askopenfilename\n",
    "from tkinter.filedialog import asksaveasfilename\n",
    "\n",
    "readFile = askopenfilename()\n",
    "if( readFile != None):\n",
    "    infile = open(readFile, \"r\")\n",
    "    \n",
    "for line in infile.readlines():\n",
    "    line = line.strip()\n",
    "    print(line)\n",
    "    \n",
    "infile.close()"
   ]
  },
  {
   "cell_type": "code",
   "execution_count": 2,
   "metadata": {},
   "outputs": [],
   "source": [
    "import os.path\n",
    "\n",
    "outfile = open(\"7.txt\", \"w\")\n",
    "\n",
    "outfile.write(line)\n",
    "    \n",
    "outfile.close()\n",
    "                  "
   ]
  },
  {
   "cell_type": "code",
   "execution_count": 3,
   "metadata": {},
   "outputs": [
    {
     "name": "stdout",
     "output_type": "stream",
     "text": [
      "한라산,10,88,96,66\n"
     ]
    }
   ],
   "source": [
    "infile = open(\"7.txt\", \"r\")\n",
    "for line in infile:\n",
    "    ilne = line.rstrip()\n",
    "    word_list = line.split()\n",
    "    for word in word_list:\n",
    "        print(word);\n",
    "infile.close()"
   ]
  },
  {
   "cell_type": "code",
   "execution_count": null,
   "metadata": {},
   "outputs": [],
   "source": []
  }
 ],
 "metadata": {
  "kernelspec": {
   "display_name": "374",
   "language": "python",
   "name": "374"
  },
  "language_info": {
   "codemirror_mode": {
    "name": "ipython",
    "version": 3
   },
   "file_extension": ".py",
   "mimetype": "text/x-python",
   "name": "python",
   "nbconvert_exporter": "python",
   "pygments_lexer": "ipython3",
   "version": "3.7.3"
  }
 },
 "nbformat": 4,
 "nbformat_minor": 2
}
