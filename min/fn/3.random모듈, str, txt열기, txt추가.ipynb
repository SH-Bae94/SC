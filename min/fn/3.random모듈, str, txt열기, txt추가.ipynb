{
 "cells": [
  {
   "cell_type": "code",
   "execution_count": 37,
   "metadata": {},
   "outputs": [
    {
     "name": "stdout",
     "output_type": "stream",
     "text": [
      "4\n",
      "4\n",
      "22.082443283678156\n",
      "red\n"
     ]
    }
   ],
   "source": [
    "a = str(random.randint(1,6))\n",
    "b = str(random.randint(1,6))\n",
    "c = str(random.random()*100)\n",
    "myList=[\"red\", \"green\", \"blue\"]\n",
    "d = random.choice(myList)\n",
    "print(a)\n",
    "print(b)\n",
    "print(c)\n",
    "print(d)"
   ]
  },
  {
   "cell_type": "code",
   "execution_count": 38,
   "metadata": {},
   "outputs": [],
   "source": [
    "import os.path\n",
    "\n",
    "outfile = open(\"3.txt\", \"a\")\n",
    "\n",
    "\n",
    "outfile.write(a)\n",
    "outfile.write(b)\n",
    "outfile.write(c)\n",
    "outfile.write(d)\n",
    "\n",
    "outfile.close()"
   ]
  },
  {
   "cell_type": "code",
   "execution_count": 39,
   "metadata": {},
   "outputs": [
    {
     "name": "stdout",
     "output_type": "stream",
     "text": [
      "4422.082443283678156red\n"
     ]
    }
   ],
   "source": [
    "infile = open(\"3.txt\", \"r\")\n",
    "for line in infile:\n",
    "    ilne = line.rstrip()\n",
    "    word_list = line.split()\n",
    "    for word in word_list:\n",
    "        print(word);\n",
    "infile.close()"
   ]
  },
  {
   "cell_type": "code",
   "execution_count": null,
   "metadata": {},
   "outputs": [],
   "source": []
  }
 ],
 "metadata": {
  "kernelspec": {
   "display_name": "374",
   "language": "python",
   "name": "374"
  },
  "language_info": {
   "codemirror_mode": {
    "name": "ipython",
    "version": 3
   },
   "file_extension": ".py",
   "mimetype": "text/x-python",
   "name": "python",
   "nbconvert_exporter": "python",
   "pygments_lexer": "ipython3",
   "version": "3.7.3"
  }
 },
 "nbformat": 4,
 "nbformat_minor": 2
}
