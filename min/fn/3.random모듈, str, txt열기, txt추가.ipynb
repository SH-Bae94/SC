{
 "cells": [
  {
   "cell_type": "code",
   "execution_count": 37,
   "metadata": {},
   "outputs": [
    {
     "name": "stdout",
     "output_type": "stream",
     "text": [
      "4\n",
      "4\n",
      "22.082443283678156\n",
      "red\n"
     ]
    }
   ],
   "source": [
    "a = str(random.randint(1,6)) #1~6의 정수를 랜덤하게 a에 입력\n",
    "b = str(random.randint(1,6)) #1~6의 정수를 랜덤하게 b에 입력\n",
    "c = str(random.random()*100) #0~100을 랜덤하게 c에 입력\n",
    "myList=[\"red\", \"green\", \"blue\"] #myList에 red, green, blue입력\n",
    "d = random.choice(myList) #myList에서 선택한 값을 d에 입력\n",
    "print(a) #a의 값을 출력\n",
    "print(b) #b의 값을 출력\n",
    "print(c) #c의 값을 출력\n",
    "print(d) #d의 값을 출력"
   ]
  },
  {
   "cell_type": "code",
   "execution_count": 38,
   "metadata": {},
   "outputs": [],
   "source": [
    "import os.path\n",
    "\n",
    "outfile = open(\"3.txt\", \"a\") #3.txt파일을 열고 내용을 추가한다.\n",
    "\n",
    "\n",
    "outfile.write(a) #파일에 앞서 구한 a의 값을 추가\n",
    "outfile.write(b) #파일에 앞서 구한 b의 값을 추가\n",
    "outfile.write(c) #파일에 앞서 구한 c의 값을 추가\n",
    "outfile.write(d) #파일에 앞서 구한 d의 값을 추가\n",
    "\n",
    "outfile.close() #파일을 닫는다."
   ]
  },
  {
   "cell_type": "code",
   "execution_count": 39,
   "metadata": {},
   "outputs": [
    {
     "name": "stdout",
     "output_type": "stream",
     "text": [
      "4422.082443283678156red\n"
     ]
    }
   ],
   "source": [
    "infile = open(\"3.txt\", \"r\") #3.txt파일을 열고 내용을 읽는다.\n",
    "for line in infile:\n",
    "    ilne = line.rstrip()\n",
    "    word_list = line.split()\n",
    "    for word in word_list:\n",
    "        print(word);\n",
    "infile.close()"
   ]
  },
  {
   "cell_type": "code",
   "execution_count": null,
   "metadata": {},
   "outputs": [],
   "source": []
  }
 ],
 "metadata": {
  "kernelspec": {
   "display_name": "374",
   "language": "python",
   "name": "374"
  },
  "language_info": {
   "codemirror_mode": {
    "name": "ipython",
    "version": 3
   },
   "file_extension": ".py",
   "mimetype": "text/x-python",
   "name": "python",
   "nbconvert_exporter": "python",
   "pygments_lexer": "ipython3",
   "version": "3.7.3"
  }
 },
 "nbformat": 4,
 "nbformat_minor": 2
}
