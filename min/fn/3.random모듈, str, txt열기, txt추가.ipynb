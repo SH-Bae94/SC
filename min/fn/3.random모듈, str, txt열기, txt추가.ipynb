{
 "cells": [
  {
   "cell_type": "code",
   "execution_count": 35,
   "metadata": {},
   "outputs": [
    {
     "name": "stdout",
     "output_type": "stream",
     "text": [
      "5\n",
      "6\n",
      "86.32628552878845\n",
      "blue\n"
     ]
    }
   ],
   "source": [
    "a = str(random.randint(1,6))\n",
    "b = str(random.randint(1,6))\n",
    "c = str(random.random()*100)\n",
    "myList=[\"red\", \"green\", \"blue\"]\n",
    "d = random.choice(myList)\n",
    "print(a)\n",
    "print(b)\n",
    "print(c)\n",
    "print(d)"
   ]
  },
  {
   "cell_type": "code",
   "execution_count": 36,
   "metadata": {},
   "outputs": [],
   "source": [
    "import os.path\n",
    "\n",
    "outfile = open(\"phones.txt\", \"a\")\n",
    "\n",
    "\n",
    "outfile.write(a)\n",
    "outfile.write(b)\n",
    "outfile.write(c)\n",
    "outfile.write(d)\n",
    "\n",
    "outfile.close()"
   ]
  },
  {
   "cell_type": "code",
   "execution_count": null,
   "metadata": {},
   "outputs": [],
   "source": []
  }
 ],
 "metadata": {
  "kernelspec": {
   "display_name": "374",
   "language": "python",
   "name": "374"
  },
  "language_info": {
   "codemirror_mode": {
    "name": "ipython",
    "version": 3
   },
   "file_extension": ".py",
   "mimetype": "text/x-python",
   "name": "python",
   "nbconvert_exporter": "python",
   "pygments_lexer": "ipython3",
   "version": "3.7.3"
  }
 },
 "nbformat": 4,
 "nbformat_minor": 2
}
