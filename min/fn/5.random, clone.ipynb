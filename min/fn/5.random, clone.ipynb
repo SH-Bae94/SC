{
 "cells": [
  {
   "cell_type": "code",
   "execution_count": 4,
   "metadata": {},
   "outputs": [
    {
     "name": "stdout",
     "output_type": "stream",
     "text": [
      "5 3 44.671694456924904\n"
     ]
    }
   ],
   "source": [
    "import random\n",
    "import copy\n",
    "a = (random.randint(1,6)) #1~6의 정수를 랜덤하게 a에 입력\n",
    "b = (random.randint(1,6)) #1~6의 정수를 랜덤하게 b에 입력\n",
    "c = (random.random()*100) #0~100을 랜덤하게 c에 입력\n",
    "print(a,b,c) # a, b, c값을 출력한다."
   ]
  },
  {
   "cell_type": "code",
   "execution_count": 7,
   "metadata": {},
   "outputs": [
    {
     "name": "stdout",
     "output_type": "stream",
     "text": [
      "[5, 3, 44.671694456924904]\n",
      "['A+', 3, 44.671694456924904]\n"
     ]
    }
   ],
   "source": [
    "x=[a,b,c] #x에 a, b , c값 입력\n",
    "clone=copy.deepcopy(x) #copy모듈을 이용하여 x값 복사\n",
    "\n",
    "clone[0]=\"A+\" #복사한 내용에 0번째 내용을 \"A+\"로 대체\n",
    "print(x) #x값 출력\n",
    "print(clone) #복사하고 수정한 값을 출력"
   ]
  },
  {
   "cell_type": "code",
   "execution_count": null,
   "metadata": {},
   "outputs": [],
   "source": []
  }
 ],
 "metadata": {
  "kernelspec": {
   "display_name": "374",
   "language": "python",
   "name": "374"
  },
  "language_info": {
   "codemirror_mode": {
    "name": "ipython",
    "version": 3
   },
   "file_extension": ".py",
   "mimetype": "text/x-python",
   "name": "python",
   "nbconvert_exporter": "python",
   "pygments_lexer": "ipython3",
   "version": "3.7.3"
  }
 },
 "nbformat": 4,
 "nbformat_minor": 2
}
