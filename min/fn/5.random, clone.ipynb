{
 "cells": [
  {
   "cell_type": "code",
   "execution_count": 4,
   "metadata": {},
   "outputs": [
    {
     "name": "stdout",
     "output_type": "stream",
     "text": [
      "5 3 44.671694456924904\n"
     ]
    }
   ],
   "source": [
    "import random\n",
    "import copy\n",
    "a = (random.randint(1,6))\n",
    "b = (random.randint(1,6))\n",
    "c = (random.random()*100)\n",
    "print(a,b,c)"
   ]
  },
  {
   "cell_type": "code",
   "execution_count": 7,
   "metadata": {},
   "outputs": [
    {
     "name": "stdout",
     "output_type": "stream",
     "text": [
      "[5, 3, 44.671694456924904]\n",
      "['A+', 3, 44.671694456924904]\n"
     ]
    }
   ],
   "source": [
    "x=[a,b,c]\n",
    "clone=copy.deepcopy(x)\n",
    "\n",
    "clone[0]=\"A+\"\n",
    "print(x)\n",
    "print(clone)"
   ]
  },
  {
   "cell_type": "code",
   "execution_count": null,
   "metadata": {},
   "outputs": [],
   "source": []
  }
 ],
 "metadata": {
  "kernelspec": {
   "display_name": "374",
   "language": "python",
   "name": "374"
  },
  "language_info": {
   "codemirror_mode": {
    "name": "ipython",
    "version": 3
   },
   "file_extension": ".py",
   "mimetype": "text/x-python",
   "name": "python",
   "nbconvert_exporter": "python",
   "pygments_lexer": "ipython3",
   "version": "3.7.3"
  }
 },
 "nbformat": 4,
 "nbformat_minor": 2
}
