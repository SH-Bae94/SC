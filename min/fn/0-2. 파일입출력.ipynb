{
 "cells": [
  {
   "cell_type": "code",
   "execution_count": 3,
   "metadata": {},
   "outputs": [
    {
     "name": "stdout",
     "output_type": "stream",
     "text": [
      "민머리 대머리 맨들맨들 빡빡이 010-\n"
     ]
    }
   ],
   "source": [
    "infile = open(\"phones.txt\", \"r\")\n",
    "s= infile.read(100)\n",
    "print(s);\n",
    "infile.close()"
   ]
  },
  {
   "cell_type": "code",
   "execution_count": 6,
   "metadata": {},
   "outputs": [
    {
     "name": "stdout",
     "output_type": "stream",
     "text": [
      "민머리 010-\n",
      "\n",
      "대머리 010-\n",
      "\n",
      "맨들맨들 010-\n"
     ]
    }
   ],
   "source": [
    "infile = open(\"phones.txt\", \"r\")\n",
    "s= infile.readline()\n",
    "print(s);\n",
    "s= infile.readline()\n",
    "print(s);\n",
    "s= infile.readline()\n",
    "print(s);\n",
    "infile.close()"
   ]
  },
  {
   "cell_type": "code",
   "execution_count": 9,
   "metadata": {},
   "outputs": [
    {
     "name": "stdout",
     "output_type": "stream",
     "text": [
      "민머리 010-\n",
      "\n",
      "대머리 010-\n",
      "\n",
      "맨들맨들 010-\n"
     ]
    }
   ],
   "source": [
    "infile = open(\"phones.txt\", \"r\")\n",
    "line = infile.readline()\n",
    "while line != \"\":#파일에 줄이 몇 줄 있는지 모를때\n",
    "    print(line);\n",
    "    line = infile.readline()\n",
    "infile.close()"
   ]
  },
  {
   "cell_type": "code",
   "execution_count": 10,
   "metadata": {},
   "outputs": [
    {
     "name": "stdout",
     "output_type": "stream",
     "text": [
      "민머리 010-\n",
      "대머리 010-\n",
      "맨들맨들 010-\n"
     ]
    }
   ],
   "source": [
    "infile = open(\"phones.txt\", \"r\")\n",
    "for line in infile:#파일을 문자열 컨테이너로 간주\n",
    "    line = line.rstrip()#오른쪽의 줄바꿈 및 공백문자 제거\n",
    "    print(line)\n",
    "infile.close()"
   ]
  },
  {
   "cell_type": "markdown",
   "metadata": {},
   "source": [
    "파일에 데이터 쓰기"
   ]
  },
  {
   "cell_type": "code",
   "execution_count": 11,
   "metadata": {},
   "outputs": [
    {
     "name": "stdout",
     "output_type": "stream",
     "text": [
      "동일한 이름의 파일이 이미 존재합니다.\n"
     ]
    }
   ],
   "source": [
    "import os.path\n",
    "\n",
    "outfile = open(\"phones.txt\", \"w\")\n",
    "\n",
    "if os.path.isfile(\"phones.txt\"):\n",
    "    print(\"동일한 이름의 파일이 이미 존재합니다.\")\n",
    "else:\n",
    "    outfile.write(\"민머리 010-\")\n",
    "    outfile.write(\"대머리 010-\")\n",
    "    outfile.write(\"맨들맨들 010-\")\n",
    "outfile.close()\n",
    "                  "
   ]
  },
  {
   "cell_type": "markdown",
   "metadata": {},
   "source": [
    "매출 파일 처리"
   ]
  },
  {
   "cell_type": "code",
   "execution_count": 13,
   "metadata": {},
   "outputs": [
    {
     "name": "stdout",
     "output_type": "stream",
     "text": [
      "입력 파일 이름:sales.txt\n",
      "출력 파일 이름:summary.txt\n"
     ]
    }
   ],
   "source": [
    "infilename = input(\"입력 파일 이름:\");\n",
    "outfilename = input(\"출력 파일 이름:\");\n",
    "\n",
    "infile = open(infilename, \"r\")\n",
    "outfile = open(outfilename, \"w\")\n",
    "\n",
    "sum = 0\n",
    "count = 0\n",
    "\n",
    "for line in infile:\n",
    "    dailySale = int(line)\n",
    "    sum = sum + dailySale\n",
    "    count = count + 1\n",
    "    \n",
    "outfile.write(\"총매출 = \"+ str(sum)+\"\\n\")\n",
    "outfile.write(\"평균 일매출 = \"+ str(sum/count))\n",
    "\n",
    "infile.close()\n",
    "outfile.close()"
   ]
  },
  {
   "cell_type": "markdown",
   "metadata": {},
   "source": [
    "데이터 추가하기"
   ]
  },
  {
   "cell_type": "code",
   "execution_count": 14,
   "metadata": {},
   "outputs": [],
   "source": [
    "outfile = open(\"phones.txt\", \"a\")\n",
    "\n",
    "outfile.write(\"민경윤 010-\")\n",
    "outfile.write(\"통통배 010-\")\n",
    "\n",
    "outfile.close()"
   ]
  },
  {
   "cell_type": "code",
   "execution_count": 16,
   "metadata": {},
   "outputs": [
    {
     "name": "stdout",
     "output_type": "stream",
     "text": [
      "민경윤 010-통통배 010-\n"
     ]
    }
   ],
   "source": [
    "infile = open(\"phones.txt\", \"r\")\n",
    "for line in infile:\n",
    "    line = line.rstrip()\n",
    "    print(line);\n",
    "infile.close()"
   ]
  },
  {
   "cell_type": "markdown",
   "metadata": {},
   "source": [
    "텍스트 입출력 기법"
   ]
  },
  {
   "cell_type": "code",
   "execution_count": 18,
   "metadata": {},
   "outputs": [
    {
     "name": "stdout",
     "output_type": "stream",
     "text": [
      "why\n",
      "not\n",
      "the\n",
      "best?\n"
     ]
    }
   ],
   "source": [
    "infile = open(\"proverbs.txt\", \"r\")\n",
    "for line in infile:\n",
    "    ilne = line.rstrip()\n",
    "    word_list = line.split()\n",
    "    for word in word_list:\n",
    "        print(word);\n",
    "infile.close()"
   ]
  },
  {
   "cell_type": "code",
   "execution_count": 20,
   "metadata": {},
   "outputs": [
    {
     "name": "stdout",
     "output_type": "stream",
     "text": [
      "0 1 2 3 4 5 6 7 8 9 \n"
     ]
    }
   ],
   "source": [
    "outfile = open(\"num.txt\", \"w\")\n",
    "\n",
    "for i in range(10):\n",
    "    outfile.write(str(i)+\" \") #txt파일은 텍스트만 저장, 숫자는 str로 변환필요\n",
    "outfile.close()\n",
    "\n",
    "infile = open(\"num.txt\", \"r\")\n",
    "line = infile.readline()\n",
    "print(line)"
   ]
  },
  {
   "cell_type": "markdown",
   "metadata": {},
   "source": [
    "파일 대화 상자"
   ]
  },
  {
   "cell_type": "code",
   "execution_count": 22,
   "metadata": {},
   "outputs": [
    {
     "name": "stdout",
     "output_type": "stream",
     "text": [
      "0 1 2 3 4 5 6 7 8 9\n"
     ]
    }
   ],
   "source": [
    "from tkinter import *\n",
    "from tkinter.filedialog import askopenfilename\n",
    "from tkinter.filedialog import asksaveasfilename\n",
    "\n",
    "readFile = askopenfilename()\n",
    "if( readFile != None):\n",
    "    infile = open(readFile, \"r\")\n",
    "    \n",
    "for line in infile.readlines():\n",
    "    line = line.strip()\n",
    "    print(line)\n",
    "    \n",
    "infile.close()"
   ]
  },
  {
   "cell_type": "markdown",
   "metadata": {},
   "source": [
    "스페이스 세기"
   ]
  },
  {
   "cell_type": "code",
   "execution_count": 1,
   "metadata": {},
   "outputs": [
    {
     "name": "stdout",
     "output_type": "stream",
     "text": [
      "파일 이름을 입력하시오: proverbs.txt\n",
      "스페이스 수 = 3, 탭의 수 = 0\n"
     ]
    }
   ],
   "source": [
    "def parse_file(path):\n",
    "    infile = open(path)\n",
    "    spaces = 0\n",
    "    tabs = 0\n",
    "    for line in infile:\n",
    "        spaces += line.count(' ')\n",
    "        tabs += line.count('\\t')\n",
    "    infile.close()\n",
    "    return spaces, tabs\n",
    "\n",
    "filename = input(\"파일 이름을 입력하시오: \");\n",
    "spaces, tabs = parse_file(filename)\n",
    "print(\"스페이스 수 = %d, 탭의 수 = %d\" % (spaces, tabs))"
   ]
  },
  {
   "cell_type": "markdown",
   "metadata": {},
   "source": [
    "줄앞에 번호 붙이기"
   ]
  },
  {
   "cell_type": "code",
   "execution_count": 2,
   "metadata": {},
   "outputs": [],
   "source": [
    "infile = open(\"proverbs.txt\")\n",
    "outfile = open(\"output.txt\",\"w\")\n",
    "i = 1\n",
    "for line in infile:\n",
    "    outfile.write(str(i) + \": \" + line)\n",
    "    i = i + 1\n",
    "infile.close()\n",
    "outfile.close()"
   ]
  },
  {
   "cell_type": "markdown",
   "metadata": {},
   "source": [
    "CSV파일 읽기"
   ]
  },
  {
   "cell_type": "code",
   "execution_count": 2,
   "metadata": {},
   "outputs": [
    {
     "name": "stdout",
     "output_type": "stream",
     "text": [
      "이름,학번,국어,수학,영어,합계,평균,석차\n",
      "  이름\n",
      "  학번\n",
      "  국어\n",
      "  수학\n",
      "  영어\n",
      "  합계\n",
      "  평균\n",
      "  석차\n",
      "홍길동,1,90,85,60\n",
      "  홍길동\n",
      "  1\n",
      "  90\n",
      "  85\n",
      "  60\n",
      "강감찬,2,85,75,65\n",
      "  강감찬\n",
      "  2\n",
      "  85\n",
      "  75\n",
      "  65\n",
      "나원참,3,78,83,95\n",
      "  나원참\n",
      "  3\n",
      "  78\n",
      "  83\n",
      "  95\n",
      "이순신,4,90,95,90\n",
      "  이순신\n",
      "  4\n",
      "  90\n",
      "  95\n",
      "  90\n",
      "나홀로,5,88,72,70\n",
      "  나홀로\n",
      "  5\n",
      "  88\n",
      "  72\n",
      "  70\n",
      "태평양,6,88,92,99\n",
      "  태평양\n",
      "  6\n",
      "  88\n",
      "  92\n",
      "  99\n",
      "대서양,7,69,78,77\n",
      "  대서양\n",
      "  7\n",
      "  69\n",
      "  78\n",
      "  77\n",
      "인도양,8,79,96,90\n",
      "  인도양\n",
      "  8\n",
      "  79\n",
      "  96\n",
      "  90\n",
      "백두산,9,88,56,45\n",
      "  백두산\n",
      "  9\n",
      "  88\n",
      "  56\n",
      "  45\n",
      "한라산,10,88,96,66\n",
      "  한라산\n",
      "  10\n",
      "  88\n",
      "  96\n",
      "  66\n"
     ]
    }
   ],
   "source": [
    "f = open(\"Csvtest.csv\", \"r\")\n",
    "\n",
    "for line in f.readlines():\n",
    "    line = line.strip()\n",
    "    print(line)\n",
    "    parts = line.split(\",\")\n",
    "    for part in parts:\n",
    "        print(\" \", part)"
   ]
  },
  {
   "cell_type": "code",
   "execution_count": null,
   "metadata": {},
   "outputs": [],
   "source": []
  },
  {
   "cell_type": "code",
   "execution_count": null,
   "metadata": {},
   "outputs": [],
   "source": []
  }
 ],
 "metadata": {
  "kernelspec": {
   "display_name": "374",
   "language": "python",
   "name": "374"
  },
  "language_info": {
   "codemirror_mode": {
    "name": "ipython",
    "version": 3
   },
   "file_extension": ".py",
   "mimetype": "text/x-python",
   "name": "python",
   "nbconvert_exporter": "python",
   "pygments_lexer": "ipython3",
   "version": "3.7.3"
  }
 },
 "nbformat": 4,
 "nbformat_minor": 2
}
