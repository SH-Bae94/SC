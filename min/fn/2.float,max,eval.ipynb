{
 "cells": [
  {
   "cell_type": "code",
   "execution_count": 16,
   "metadata": {},
   "outputs": [
    {
     "name": "stdout",
     "output_type": "stream",
     "text": [
      "실수를 입력하시오:1\n",
      "실수를 입력하시오:2\n",
      "실수를 입력하시오:3\n"
     ]
    }
   ],
   "source": [
    "a=input(\"실수를 입력하시오:\")\n",
    "b=input(\"실수를 입력하시오:\")\n",
    "c=input(\"실수를 입력하시오:\")"
   ]
  },
  {
   "cell_type": "code",
   "execution_count": 17,
   "metadata": {},
   "outputs": [
    {
     "name": "stdout",
     "output_type": "stream",
     "text": [
      "3 1\n"
     ]
    }
   ],
   "source": [
    "values=[a,b,c] #values에 a,b,c 즉 1,2,3 입력\n",
    "x=max(values) #x에 values의 max값을 입력\n",
    "y=min(values) #y에 values의 min값을 입력\n",
    "print(x,y) #x,y값 즉 values의 max와 min값을 출력"
   ]
  },
  {
   "cell_type": "code",
   "execution_count": 18,
   "metadata": {},
   "outputs": [
    {
     "name": "stdout",
     "output_type": "stream",
     "text": [
      "31\n"
     ]
    }
   ],
   "source": [
    "concatenate = eval('x+y') #앞서 구한 x,y를 eval을 통해 계산\n",
    "print(concatenate) #계산한 값을 출력, 여기서는 3+1=4가 아닌 3과 1을 합친 31 즉 concatenate했다."
   ]
  },
  {
   "cell_type": "code",
   "execution_count": 20,
   "metadata": {},
   "outputs": [
    {
     "name": "stdout",
     "output_type": "stream",
     "text": [
      "6.0\n"
     ]
    }
   ],
   "source": [
    "d=float(a) #앞서 구한 a값을 float하여 d에 입력\n",
    "e=float(b) #앞서 구한 b값을 float하여 e에 입력\n",
    "f=float(c) #앞서 구한 c값을 float하여 f에 입력\n",
    "sum = eval('d+e+f') #d,e,f를 eval을 통해 계산\n",
    "print(sum) #계산한 값을 출력, 여기서는 1.0+2.0+3.0=6.0으로 sum이 되었다."
   ]
  },
  {
   "cell_type": "code",
   "execution_count": null,
   "metadata": {},
   "outputs": [],
   "source": []
  }
 ],
 "metadata": {
  "kernelspec": {
   "display_name": "374",
   "language": "python",
   "name": "374"
  },
  "language_info": {
   "codemirror_mode": {
    "name": "ipython",
    "version": 3
   },
   "file_extension": ".py",
   "mimetype": "text/x-python",
   "name": "python",
   "nbconvert_exporter": "python",
   "pygments_lexer": "ipython3",
   "version": "3.7.3"
  }
 },
 "nbformat": 4,
 "nbformat_minor": 2
}
