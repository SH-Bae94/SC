{
 "cells": [
  {
   "cell_type": "code",
   "execution_count": null,
   "metadata": {},
   "outputs": [],
   "source": [
    "def readList():\n",
    "    nlist = []\n",
    "    flag = True;\n",
    "    while flag :\n",
    "        number = int(input(\"숫자를 입력하시오: \"))\n",
    "        if number < 0:\n",
    "            flag = False\n",
    "        else :\n",
    "            nlist.append(number)\n",
    "    return nlist\n",
    "def processList(nlist):\n",
    "    nlist.sort()\n",
    "    return nlist\n",
    "def printList(nlist):\n",
    "    for i in nlist:\n",
    "        print(\"성적=\", i)"
   ]
  },
  {
   "cell_type": "code",
   "execution_count": null,
   "metadata": {},
   "outputs": [],
   "source": []
  }
 ],
 "metadata": {
  "kernelspec": {
   "display_name": "374",
   "language": "python",
   "name": "374"
  },
  "language_info": {
   "codemirror_mode": {
    "name": "ipython",
    "version": 3
   },
   "file_extension": ".py",
   "mimetype": "text/x-python",
   "name": "python",
   "nbconvert_exporter": "python",
   "pygments_lexer": "ipython3",
   "version": "3.7.3"
  }
 },
 "nbformat": 4,
 "nbformat_minor": 2
}
