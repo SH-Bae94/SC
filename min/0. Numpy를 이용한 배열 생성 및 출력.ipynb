{
 "cells": [
  {
   "cell_type": "markdown",
   "metadata": {},
   "source": [
    "0. Numpy를 이용한 배열 생성 및 출력"
   ]
  },
  {
   "cell_type": "code",
   "execution_count": 1,
   "metadata": {},
   "outputs": [],
   "source": [
    "import numpy as np # numpy import 후 np로 약자 지정"
   ]
  },
  {
   "cell_type": "code",
   "execution_count": 2,
   "metadata": {
    "scrolled": true
   },
   "outputs": [
    {
     "name": "stdout",
     "output_type": "stream",
     "text": [
      "array0: [0 1 2 3]\n",
      "array0 size: 4\n",
      "array0 dtype: int32\n",
      "array0 첫번째 원소: 0\n",
      "array0 두번째 원소: 1\n",
      "array0 세번째 원소: 2\n",
      "array0 네번째 원소: 3\n"
     ]
    }
   ],
   "source": [
    "array0 = np.array([0, 1, 2, 3]) # 배열 생성\n",
    "print(\"array0:\",array0) # 생성한 배열 출력\n",
    "print(\"array0 size:\",array0.size) # 생성한 배열 사이즈 출력\n",
    "print(\"array0 dtype:\",array0.dtype) # 생성한 배열 데이터타입 출력\n",
    "print(\"array0 첫번째 원소:\",array0[0]) # 생성한 배열의 첫번째 원소 출력\n",
    "print(\"array0 두번째 원소:\",array0[1]) # 생성한 배열의 두번째 원소 출력\n",
    "print(\"array0 세번째 원소:\",array0[2]) # 생성한 배열의 세번째 원소 출력\n",
    "print(\"array0 네번째 원소:\",array0[3]) # 생성한 배열의 네번째 원소 출력"
   ]
  },
  {
   "cell_type": "code",
   "execution_count": null,
   "metadata": {},
   "outputs": [],
   "source": []
  }
 ],
 "metadata": {
  "kernelspec": {
   "display_name": "Python 3",
   "language": "python",
   "name": "python3"
  },
  "language_info": {
   "codemirror_mode": {
    "name": "ipython",
    "version": 3
   },
   "file_extension": ".py",
   "mimetype": "text/x-python",
   "name": "python",
   "nbconvert_exporter": "python",
   "pygments_lexer": "ipython3",
   "version": "3.7.3"
  }
 },
 "nbformat": 4,
 "nbformat_minor": 2
}
