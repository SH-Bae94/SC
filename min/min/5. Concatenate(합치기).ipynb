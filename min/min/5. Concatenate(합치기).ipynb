{
 "cells": [
  {
   "cell_type": "code",
   "execution_count": 7,
   "metadata": {},
   "outputs": [],
   "source": [
    "import numpy as np # numpy import 후 np로 약자 지정"
   ]
  },
  {
   "cell_type": "markdown",
   "metadata": {},
   "source": [
    "배열 concatenate(합치기)"
   ]
  },
  {
   "cell_type": "code",
   "execution_count": 13,
   "metadata": {},
   "outputs": [
    {
     "name": "stdout",
     "output_type": "stream",
     "text": [
      "array0: [1 2 3]\n",
      "array1: [4 5 6]\n",
      "concatenate: [1 2 3 4 5 6]\n"
     ]
    }
   ],
   "source": [
    "array0 = np.array([1, 2, 3]) # 1~3 배열 생성\n",
    "array1 = np.array([4, 5, 6]) # 4~6 배열 생성\n",
    "array2 = np.concatenate([array0, array1]) # array0과 array1을 합친 배열 생성\n",
    "print(\"array0:\", array0) # 생성한 배열 출력\n",
    "print(\"array1:\",array1) # 생성한 배열 출력\n",
    "print(\"concatenate:\",array2) # concatenate한 배열 출력"
   ]
  },
  {
   "cell_type": "code",
   "execution_count": 17,
   "metadata": {},
   "outputs": [
    {
     "name": "stdout",
     "output_type": "stream",
     "text": [
      "array0: \n",
      " [[0 1 2 3]]\n",
      "array1: \n",
      " [[0 1 2 3]\n",
      " [4 5 6 7]]\n",
      "concatenate: \n",
      " [[0 1 2 3]\n",
      " [0 1 2 3]\n",
      " [4 5 6 7]]\n"
     ]
    }
   ],
   "source": [
    "array0 = np.arange(4).reshape(1, 4) # 0~3원소를 가지는 1x4배열 생성\n",
    "array1 = np.arange(8).reshape(2, 4) # 0~7원소를 가지는 2x4배열 생성\n",
    "array2 = np.concatenate([array0, array1], axis=0) # array0과 array1을 x축으로 합친 배열 생성\n",
    "print(\"array0: \\n\", array0) # 생성한 배열 출력\n",
    "print(\"array1: \\n\",array1) # 생성한 배열 출력\n",
    "print(\"concatenate: \\n\",array2) # concatenate한 배열 출력"
   ]
  },
  {
   "cell_type": "code",
   "execution_count": null,
   "metadata": {},
   "outputs": [],
   "source": []
  }
 ],
 "metadata": {
  "kernelspec": {
   "display_name": "Python 3",
   "language": "python",
   "name": "python3"
  },
  "language_info": {
   "codemirror_mode": {
    "name": "ipython",
    "version": 3
   },
   "file_extension": ".py",
   "mimetype": "text/x-python",
   "name": "python",
   "nbconvert_exporter": "python",
   "pygments_lexer": "ipython3",
   "version": "3.7.3"
  }
 },
 "nbformat": 4,
 "nbformat_minor": 2
}
