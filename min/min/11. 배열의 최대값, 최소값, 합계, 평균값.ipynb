{
 "cells": [
  {
   "cell_type": "code",
   "execution_count": 1,
   "metadata": {},
   "outputs": [],
   "source": [
    "import numpy as np # numpy import 후 np로 약자 지정"
   ]
  },
  {
   "cell_type": "markdown",
   "metadata": {},
   "source": [
    "생성한 배열의 최대값, 최소값, 합계, 평균값"
   ]
  },
  {
   "cell_type": "code",
   "execution_count": 6,
   "metadata": {},
   "outputs": [
    {
     "name": "stdout",
     "output_type": "stream",
     "text": [
      "최대값: 15\n",
      "최소값: 0\n",
      "합계: 120\n",
      "평균값: 7.5\n"
     ]
    }
   ],
   "source": [
    "array0 = np.arange(16).reshape(4, 4) # 0~15의 원소를 4x4배열로 생성\n",
    "print(\"최대값:\", np.max(array0))\n",
    "print(\"최소값:\", np.min(array0))\n",
    "print(\"합계:\", np.sum(array0))\n",
    "print(\"평균값:\", np.mean(array0))"
   ]
  },
  {
   "cell_type": "markdown",
   "metadata": {},
   "source": [
    "배열의 x축, y축 합계"
   ]
  },
  {
   "cell_type": "code",
   "execution_count": 7,
   "metadata": {},
   "outputs": [
    {
     "name": "stdout",
     "output_type": "stream",
     "text": [
      "[[ 0  1  2  3]\n",
      " [ 4  5  6  7]\n",
      " [ 8  9 10 11]\n",
      " [12 13 14 15]]\n",
      "x축합계: [24 28 32 36]\n",
      "y축합계: [ 6 22 38 54]\n"
     ]
    }
   ],
   "source": [
    "array0 = np.arange(16).reshape(4, 4) # 0~15의 원소를 4x4배열로 생성\n",
    "print(array0)\n",
    "print(\"x축합계:\", np.sum(array0, axis=0))\n",
    "print(\"y축합계:\", np.sum(array0, axis=1))"
   ]
  },
  {
   "cell_type": "code",
   "execution_count": null,
   "metadata": {},
   "outputs": [],
   "source": []
  }
 ],
 "metadata": {
  "kernelspec": {
   "display_name": "Python 3",
   "language": "python",
   "name": "python3"
  },
  "language_info": {
   "codemirror_mode": {
    "name": "ipython",
    "version": 3
   },
   "file_extension": ".py",
   "mimetype": "text/x-python",
   "name": "python",
   "nbconvert_exporter": "python",
   "pygments_lexer": "ipython3",
   "version": "3.7.3"
  }
 },
 "nbformat": 4,
 "nbformat_minor": 2
}
