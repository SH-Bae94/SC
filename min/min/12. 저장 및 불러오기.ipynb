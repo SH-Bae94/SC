{
 "cells": [
  {
   "cell_type": "markdown",
   "metadata": {},
   "source": [
    "4. 저장 및 불러오기"
   ]
  },
  {
   "cell_type": "code",
   "execution_count": 1,
   "metadata": {},
   "outputs": [],
   "source": [
    "import numpy as np # numpy import 후 np로 약자 지정"
   ]
  },
  {
   "cell_type": "markdown",
   "metadata": {},
   "source": [
    "배열의 저장 및 불러오기"
   ]
  },
  {
   "cell_type": "code",
   "execution_count": 2,
   "metadata": {},
   "outputs": [
    {
     "name": "stdout",
     "output_type": "stream",
     "text": [
      "[0 1 2 3 4 5 6 7 8 9]\n"
     ]
    }
   ],
   "source": [
    "array0 = np.arange(0, 10) # 0~9의 배열 생성\n",
    "np.save('민머리.npy', array0) # array0를 민머리.npy로 저장\n",
    "x = np.load('민머리.npy') # 민머리.npy를 불러옴\n",
    "print(x) # 불러온 배열을 출력"
   ]
  },
  {
   "cell_type": "markdown",
   "metadata": {},
   "source": [
    "다중배열의 저장 및 불러오기"
   ]
  },
  {
   "cell_type": "code",
   "execution_count": 3,
   "metadata": {},
   "outputs": [
    {
     "name": "stdout",
     "output_type": "stream",
     "text": [
      "<numpy.lib.npyio.NpzFile object at 0x0000026A1E402390>\n",
      "[0 1 2 3 4 5 6 7 8 9]\n",
      "[10 11 12 13 14 15 16 17 18 19]\n"
     ]
    }
   ],
   "source": [
    "array0 = np.arange(0, 10) # 0~9의 배열 생성\n",
    "array1 = np.arange(10, 20) # 10~19의 배열 생성\n",
    "np.savez('예함대.npz', array0=array0, array1=array1) # array0와 array1을 예함대.npz로 다중배열 저장\n",
    "data = np.load('예함대.npz') # 예함대.npz를 불러옴\n",
    "x = data['array0'] # 다중배열 중 array0\n",
    "y = data['array1'] # 다중배열 중 array1\n",
    "print(data) # 불러온 다중배열을 출력\n",
    "print(x) # 다중배열 중 array0을 출력\n",
    "print(y) # 다중배열 중 array1을 출력"
   ]
  },
  {
   "cell_type": "code",
   "execution_count": null,
   "metadata": {},
   "outputs": [],
   "source": []
  }
 ],
 "metadata": {
  "kernelspec": {
   "display_name": "Python 3",
   "language": "python",
   "name": "python3"
  },
  "language_info": {
   "codemirror_mode": {
    "name": "ipython",
    "version": 3
   },
   "file_extension": ".py",
   "mimetype": "text/x-python",
   "name": "python",
   "nbconvert_exporter": "python",
   "pygments_lexer": "ipython3",
   "version": "3.7.3"
  }
 },
 "nbformat": 4,
 "nbformat_minor": 2
}
