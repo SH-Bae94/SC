{
 "cells": [
  {
   "cell_type": "markdown",
   "metadata": {},
   "source": [
    "3. Numpy 연산"
   ]
  },
  {
   "cell_type": "code",
   "execution_count": 1,
   "metadata": {},
   "outputs": [],
   "source": [
    "import numpy as np # numpy import 후 np로 약자 지정"
   ]
  },
  {
   "cell_type": "markdown",
   "metadata": {},
   "source": [
    "배열 곱셈 = 각 원소에 곱을 함"
   ]
  },
  {
   "cell_type": "code",
   "execution_count": 2,
   "metadata": {},
   "outputs": [
    {
     "name": "stdout",
     "output_type": "stream",
     "text": [
      "array0: \n",
      " [[6 9]\n",
      " [6 8]]\n",
      "array1: \n",
      " [[60 90]\n",
      " [60 80]]\n"
     ]
    }
   ],
   "source": [
    "array0 = np.random.randint(1, 10, size=(2, 2)) # 1~10의 원소를 랜덤하게 2x2배열로 생성\n",
    "array1 = array0 * 10 # 생성된 배열의 각 원소에 10을 곱함\n",
    "print(\"array0: \\n\",array0) # 생성한 배열 출력\n",
    "print(\"array1: \\n\",array1) # 생성한 배열 출력"
   ]
  },
  {
   "cell_type": "markdown",
   "metadata": {},
   "source": [
    "다른 차원의 덧셈 = 차원에 맞게 더해줌"
   ]
  },
  {
   "cell_type": "code",
   "execution_count": 3,
   "metadata": {},
   "outputs": [
    {
     "name": "stdout",
     "output_type": "stream",
     "text": [
      "array0: \n",
      " [[0 1]\n",
      " [2 3]]\n",
      "array1: \n",
      " [0 1]\n",
      "array0 + array1: \n",
      " [[0 2]\n",
      " [2 4]]\n"
     ]
    }
   ],
   "source": [
    "array0 = np.arange(4).reshape(2, 2) # 0~3의 원소를 2x2배열로 생성\n",
    "array1 = np.arange(2) # 0~1원소의 배열 생성\n",
    "array2 = array0 + array1 # array0과 array1의 원소를 각각 더함\n",
    "print(\"array0: \\n\",array0) # 생성한 배열 출력\n",
    "print(\"array1: \\n\",array1) # 생성한 배열 출력\n",
    "print(\"array0 + array1: \\n\",array2) # 배열의 덧셈"
   ]
  },
  {
   "cell_type": "markdown",
   "metadata": {},
   "source": [
    "cocatenate(합치기)후 x축원소를 출력하여 더해줌"
   ]
  },
  {
   "cell_type": "code",
   "execution_count": 4,
   "metadata": {},
   "outputs": [
    {
     "name": "stdout",
     "output_type": "stream",
     "text": [
      "array0: \n",
      " [[0 1 2 3]\n",
      " [4 5 6 7]]\n",
      "array1: \n",
      " [[0 1 2 3]\n",
      " [4 5 6 7]]\n",
      "array2: \n",
      " [[0 1 2 3]\n",
      " [4 5 6 7]\n",
      " [0 1 2 3]\n",
      " [4 5 6 7]]\n",
      "array3: \n",
      " [[0]\n",
      " [1]\n",
      " [2]\n",
      " [3]]\n",
      "array2+3: \n",
      " [[ 0  1  2  3]\n",
      " [ 5  6  7  8]\n",
      " [ 2  3  4  5]\n",
      " [ 7  8  9 10]]\n"
     ]
    }
   ],
   "source": [
    "array0 = np.arange(0, 8).reshape(2, 4) # 0~7의 원소를 2x4배열로 생성\n",
    "array1 = np.arange(0, 8).reshape(2, 4) # 0~7의 원소를 2x4배열로 생성\n",
    "array2 = np.concatenate([array0, array1], axis=0) # array0과 array1을 x축으로 concatenate\n",
    "array3 = np.arange(0, 4).reshape(4, 1) # 0~3의 원소를 4x1배열로 생성\n",
    "print(\"array0: \\n\",array0) # 생성한 배열 출력\n",
    "print(\"array1: \\n\",array1) # 생성한 배열 출력\n",
    "print(\"array2: \\n\",array2) # concatenate한 배열 출력\n",
    "print(\"array3: \\n\",array3) # 생성한 배열 출력\n",
    "print(\"array2+3: \\n\",array2 + array3) # concatenate한 배열과 array3의 덧셈"
   ]
  },
  {
   "cell_type": "markdown",
   "metadata": {},
   "source": [
    "0~15의 원소를 4x4배열로 생성 후 10미만의 원소를 100으로 mask"
   ]
  },
  {
   "cell_type": "code",
   "execution_count": 5,
   "metadata": {},
   "outputs": [
    {
     "name": "stdout",
     "output_type": "stream",
     "text": [
      "array0:\n",
      " [[ 0  1  2  3]\n",
      " [ 4  5  6  7]\n",
      " [ 8  9 10 11]\n",
      " [12 13 14 15]]\n",
      "array1:\n",
      " [[ True  True  True  True]\n",
      " [ True  True  True  True]\n",
      " [ True  True False False]\n",
      " [False False False False]]\n",
      "Mask100: \n",
      " [[100 100 100 100]\n",
      " [100 100 100 100]\n",
      " [100 100  10  11]\n",
      " [ 12  13  14  15]]\n"
     ]
    }
   ],
   "source": [
    "array0 = np.arange(16).reshape(4, 4) # 0~15의 원소를 4x4배열로 생성\n",
    "print(\"array0:\\n\",array0) # 생성한 배열 출력\n",
    "\n",
    "array1 = array0 < 10 # array0에서 10미만의 원소를 Mask\n",
    "print(\"array1:\\n\",array1) # Mask한 배열 출력\n",
    "\n",
    "array0[array1] = 100 # array1의 True값을 array0에 100으로 Mask\n",
    "print(\"Mask100: \\n\",array0) # Mask한 배열 출력"
   ]
  },
  {
   "cell_type": "markdown",
   "metadata": {},
   "source": [
    "생성한 배열의 최대값, 최소값, 합계, 평균값"
   ]
  },
  {
   "cell_type": "code",
   "execution_count": 6,
   "metadata": {},
   "outputs": [
    {
     "name": "stdout",
     "output_type": "stream",
     "text": [
      "최대값: 15\n",
      "최소값: 0\n",
      "합계: 120\n",
      "평균값: 7.5\n"
     ]
    }
   ],
   "source": [
    "array0 = np.arange(16).reshape(4, 4) # 0~15의 원소를 4x4배열로 생성\n",
    "print(\"최대값:\", np.max(array0))\n",
    "print(\"최소값:\", np.min(array0))\n",
    "print(\"합계:\", np.sum(array0))\n",
    "print(\"평균값:\", np.mean(array0))"
   ]
  },
  {
   "cell_type": "markdown",
   "metadata": {},
   "source": [
    "배열의 x축, y축 합계"
   ]
  },
  {
   "cell_type": "code",
   "execution_count": 7,
   "metadata": {},
   "outputs": [
    {
     "name": "stdout",
     "output_type": "stream",
     "text": [
      "[[ 0  1  2  3]\n",
      " [ 4  5  6  7]\n",
      " [ 8  9 10 11]\n",
      " [12 13 14 15]]\n",
      "x축합계: [24 28 32 36]\n",
      "y축합계: [ 6 22 38 54]\n"
     ]
    }
   ],
   "source": [
    "array0 = np.arange(16).reshape(4, 4) # 0~15의 원소를 4x4배열로 생성\n",
    "print(array0)\n",
    "print(\"x축합계:\", np.sum(array0, axis=0))\n",
    "print(\"y축합계:\", np.sum(array0, axis=1))"
   ]
  },
  {
   "cell_type": "code",
   "execution_count": null,
   "metadata": {},
   "outputs": [],
   "source": []
  }
 ],
 "metadata": {
  "kernelspec": {
   "display_name": "Python 3",
   "language": "python",
   "name": "python3"
  },
  "language_info": {
   "codemirror_mode": {
    "name": "ipython",
    "version": 3
   },
   "file_extension": ".py",
   "mimetype": "text/x-python",
   "name": "python",
   "nbconvert_exporter": "python",
   "pygments_lexer": "ipython3",
   "version": "3.7.3"
  }
 },
 "nbformat": 4,
 "nbformat_minor": 2
}
