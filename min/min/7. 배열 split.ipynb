{
 "cells": [
  {
   "cell_type": "code",
   "execution_count": 1,
   "metadata": {},
   "outputs": [],
   "source": [
    "import numpy as np # numpy import 후 np로 약자 지정"
   ]
  },
  {
   "cell_type": "markdown",
   "metadata": {},
   "source": [
    "배열을 split(분리)"
   ]
  },
  {
   "cell_type": "code",
   "execution_count": 12,
   "metadata": {},
   "outputs": [
    {
     "name": "stdout",
     "output_type": "stream",
     "text": [
      "array0: \n",
      " [[0 1 2 3]\n",
      " [4 5 6 7]]\n",
      "left: \n",
      " [[0 1]\n",
      " [4 5]]\n",
      "left shape: \n",
      " (2, 2)\n",
      "right: \n",
      " [[2 3]\n",
      " [6 7]]\n",
      "right shape: \n",
      " (2, 2)\n",
      "right(0,1): \n",
      " 3\n",
      "right(1,1): \n",
      " 7\n"
     ]
    }
   ],
   "source": [
    "array0 = np.arange(8).reshape(2, 4) # 0~7의 원소를 갖는 2x4배열 생성\n",
    "left, right = np.split(array0, [2], axis=1) # y축의 2번째 원소를 기준으로 left, right split\n",
    "\n",
    "print(\"array0: \\n\", array0)\n",
    "print(\"left: \\n\", left)\n",
    "print(\"left shape: \\n\", left.shape) # left의 형태\n",
    "print(\"right: \\n\", right)\n",
    "print(\"right shape: \\n\", right.shape) # right의 형태\n",
    "print(\"right(0,1): \\n\",right[0][1]) # right의 (0, 1)원소 출력\n",
    "print(\"right(1,1): \\n\",right[1][1]) # right의 (1, 1)원소 출력"
   ]
  },
  {
   "cell_type": "code",
   "execution_count": null,
   "metadata": {},
   "outputs": [],
   "source": []
  }
 ],
 "metadata": {
  "kernelspec": {
   "display_name": "Python 3",
   "language": "python",
   "name": "python3"
  },
  "language_info": {
   "codemirror_mode": {
    "name": "ipython",
    "version": 3
   },
   "file_extension": ".py",
   "mimetype": "text/x-python",
   "name": "python",
   "nbconvert_exporter": "python",
   "pygments_lexer": "ipython3",
   "version": "3.7.3"
  }
 },
 "nbformat": 4,
 "nbformat_minor": 2
}
