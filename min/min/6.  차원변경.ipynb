{
 "cells": [
  {
   "cell_type": "code",
   "execution_count": 1,
   "metadata": {},
   "outputs": [],
   "source": [
    "import numpy as np # numpy import 후 np로 약자 지정"
   ]
  },
  {
   "cell_type": "markdown",
   "metadata": {},
   "source": [
    "1차원에서 2차원으로 변경"
   ]
  },
  {
   "cell_type": "code",
   "execution_count": 5,
   "metadata": {},
   "outputs": [
    {
     "name": "stdout",
     "output_type": "stream",
     "text": [
      "array0: \n",
      " [1 2 3 4]\n",
      "array1: \n",
      " [[1 2]\n",
      " [3 4]]\n",
      "array1 shape: \n",
      " (2, 2)\n"
     ]
    }
   ],
   "source": [
    "array0 = np.array([1, 2, 3, 4])\n",
    "array1 = array0.reshape((2, 2))\n",
    "print(\"array0: \\n\", array0) # 생성한 배열 출력\n",
    "print(\"array1: \\n\",array1) # 생성한 배열 출력\n",
    "print(\"array1 shape: \\n\",array1.shape) # array1의 형태 출력"
   ]
  },
  {
   "cell_type": "code",
   "execution_count": null,
   "metadata": {},
   "outputs": [],
   "source": []
  }
 ],
 "metadata": {
  "kernelspec": {
   "display_name": "Python 3",
   "language": "python",
   "name": "python3"
  },
  "language_info": {
   "codemirror_mode": {
    "name": "ipython",
    "version": 3
   },
   "file_extension": ".py",
   "mimetype": "text/x-python",
   "name": "python",
   "nbconvert_exporter": "python",
   "pygments_lexer": "ipython3",
   "version": "3.7.3"
  }
 },
 "nbformat": 4,
 "nbformat_minor": 2
}
