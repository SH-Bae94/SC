{
 "cells": [
  {
   "cell_type": "markdown",
   "metadata": {},
   "source": [
    "1. Numpy 배열의 초기화"
   ]
  },
  {
   "cell_type": "code",
   "execution_count": 1,
   "metadata": {},
   "outputs": [],
   "source": [
    "import numpy as np # numpy import 후 np로 약자 지정"
   ]
  },
  {
   "cell_type": "markdown",
   "metadata": {},
   "source": [
    "범위 배열 생성"
   ]
  },
  {
   "cell_type": "code",
   "execution_count": 2,
   "metadata": {},
   "outputs": [
    {
     "name": "stdout",
     "output_type": "stream",
     "text": [
      "array0: [0 1 2 3]\n",
      "array0 size: 4\n",
      "array0 dtype: int32\n"
     ]
    }
   ],
   "source": [
    "array0 = np.arange(4) # 0~3의 배열 생성\n",
    "print(\"array0:\",array0) # 생성한 배열 출력\n",
    "print(\"array0 size:\",array0.size) # 생성한 배열 사이즈 출력\n",
    "print(\"array0 dtype:\",array0.dtype) # 생성한 배열 데이터타입 출력"
   ]
  },
  {
   "cell_type": "markdown",
   "metadata": {},
   "source": [
    "0으로 초기화한 배열 생성"
   ]
  },
  {
   "cell_type": "code",
   "execution_count": 3,
   "metadata": {},
   "outputs": [
    {
     "name": "stdout",
     "output_type": "stream",
     "text": [
      "array0: \n",
      " [[0. 0. 0. 0.]\n",
      " [0. 0. 0. 0.]\n",
      " [0. 0. 0. 0.]\n",
      " [0. 0. 0. 0.]]\n",
      "array0 size: 16\n",
      "array0 dtype: float64\n"
     ]
    }
   ],
   "source": [
    "array0 = np.zeros((4, 4), dtype=float) # 0으로 초기화한 float타입의 4x4배열 생성\n",
    "print(\"array0: \\n\",array0) # 생성한 배열 출력\n",
    "print(\"array0 size:\",array0.size) # 생성한 배열 사이즈 출력\n",
    "print(\"array0 dtype:\",array0.dtype) # 생성한 배열 데이터타입 출력"
   ]
  },
  {
   "cell_type": "markdown",
   "metadata": {},
   "source": [
    "1으로 초기화한 배열 생성"
   ]
  },
  {
   "cell_type": "code",
   "execution_count": 4,
   "metadata": {},
   "outputs": [
    {
     "name": "stdout",
     "output_type": "stream",
     "text": [
      "array0: \n",
      " [[1. 1. 1. 1.]\n",
      " [1. 1. 1. 1.]\n",
      " [1. 1. 1. 1.]\n",
      " [1. 1. 1. 1.]]\n",
      "array0 size: 16\n",
      "array0 dtype: float64\n"
     ]
    }
   ],
   "source": [
    "array0 = np.ones((4, 4), dtype=float) # 1으로 초기화한 float타입의 4x4배열 생성\n",
    "print(\"array0: \\n\",array0) # 생성한 배열 출력\n",
    "print(\"array0 size:\",array0.size) # 생성한 배열 사이즈 출력\n",
    "print(\"array0 dtype:\",array0.dtype) # 생성한 배열 데이터타입 출력"
   ]
  },
  {
   "cell_type": "markdown",
   "metadata": {},
   "source": [
    "랜덤한 값의 배열 생성"
   ]
  },
  {
   "cell_type": "code",
   "execution_count": 5,
   "metadata": {},
   "outputs": [
    {
     "name": "stdout",
     "output_type": "stream",
     "text": [
      "array0: \n",
      " [[ 4  8 12  0]\n",
      " [12  7  1  7]\n",
      " [ 6  8  5 12]\n",
      " [13  0  7 10]]\n",
      "array0 size: 16\n",
      "array0 dtype: int32\n"
     ]
    }
   ],
   "source": [
    "array0 = np.random.randint(0, 15, (4, 4)) # 0~15의 랜덤한 값을 4x4배열 생성\n",
    "print(\"array0: \\n\",array0) # 생성한 배열 출력\n",
    "print(\"array0 size:\",array0.size) # 생성한 배열 사이즈 출력\n",
    "print(\"array0 dtype:\",array0.dtype) # 생성한 배열 데이터타입 출력"
   ]
  },
  {
   "cell_type": "markdown",
   "metadata": {},
   "source": [
    "표준정규분포를 갖는 배열 생성"
   ]
  },
  {
   "cell_type": "code",
   "execution_count": 6,
   "metadata": {},
   "outputs": [
    {
     "name": "stdout",
     "output_type": "stream",
     "text": [
      "array0: \n",
      " [[-0.83594591 -1.20188311 -1.05320855 -0.18966937]\n",
      " [ 1.20181632 -0.91580694  0.81518602  0.07167718]\n",
      " [-0.01931001  1.67890992  0.2378247  -1.30471993]\n",
      " [-0.70168283  0.60769567 -1.87763958 -0.51274564]]\n",
      "array0 size: 16\n",
      "array0 dtype: float64\n"
     ]
    }
   ],
   "source": [
    "array0 = np.random.normal (0, 1, (4, 4)) # 평균이 0, 표준편차가 1인 4x4배열 생성\n",
    "print(\"array0: \\n\",array0) # 생성한 배열 출력\n",
    "print(\"array0 size:\",array0.size) # 생성한 배열 사이즈 출력\n",
    "print(\"array0 dtype:\",array0.dtype) # 생성한 배열 데이터타입 출력"
   ]
  },
  {
   "cell_type": "code",
   "execution_count": null,
   "metadata": {},
   "outputs": [],
   "source": []
  }
 ],
 "metadata": {
  "kernelspec": {
   "display_name": "Python 3",
   "language": "python",
   "name": "python3"
  },
  "language_info": {
   "codemirror_mode": {
    "name": "ipython",
    "version": 3
   },
   "file_extension": ".py",
   "mimetype": "text/x-python",
   "name": "python",
   "nbconvert_exporter": "python",
   "pygments_lexer": "ipython3",
   "version": "3.7.3"
  }
 },
 "nbformat": 4,
 "nbformat_minor": 2
}
