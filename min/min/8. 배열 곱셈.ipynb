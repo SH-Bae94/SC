{
 "cells": [
  {
   "cell_type": "code",
   "execution_count": 1,
   "metadata": {},
   "outputs": [],
   "source": [
    "import numpy as np # numpy import 후 np로 약자 지정"
   ]
  },
  {
   "cell_type": "markdown",
   "metadata": {},
   "source": [
    "배열 곱셈 = 각 원소에 곱을 함"
   ]
  },
  {
   "cell_type": "code",
   "execution_count": 2,
   "metadata": {},
   "outputs": [
    {
     "name": "stdout",
     "output_type": "stream",
     "text": [
      "array0: \n",
      " [[6 9]\n",
      " [6 8]]\n",
      "array1: \n",
      " [[60 90]\n",
      " [60 80]]\n"
     ]
    }
   ],
   "source": [
    "array0 = np.random.randint(1, 10, size=(2, 2)) # 1~10의 원소를 랜덤하게 2x2배열로 생성\n",
    "array1 = array0 * 10 # 생성된 배열의 각 원소에 10을 곱함\n",
    "print(\"array0: \\n\",array0) # 생성한 배열 출력\n",
    "print(\"array1: \\n\",array1) # 생성한 배열 출력"
   ]
  },
  {
   "cell_type": "code",
   "execution_count": null,
   "metadata": {},
   "outputs": [],
   "source": []
  }
 ],
 "metadata": {
  "kernelspec": {
   "display_name": "Python 3",
   "language": "python",
   "name": "python3"
  },
  "language_info": {
   "codemirror_mode": {
    "name": "ipython",
    "version": 3
   },
   "file_extension": ".py",
   "mimetype": "text/x-python",
   "name": "python",
   "nbconvert_exporter": "python",
   "pygments_lexer": "ipython3",
   "version": "3.7.3"
  }
 },
 "nbformat": 4,
 "nbformat_minor": 2
}
