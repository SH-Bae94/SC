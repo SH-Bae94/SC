{
 "cells": [
  {
   "cell_type": "markdown",
   "metadata": {},
   "source": [
    "2. Numpy concatenate(합치기), split(분리)"
   ]
  },
  {
   "cell_type": "code",
   "execution_count": 1,
   "metadata": {},
   "outputs": [],
   "source": [
    "import numpy as np # numpy import 후 np로 약자 지정"
   ]
  },
  {
   "cell_type": "markdown",
   "metadata": {},
   "source": [
    "배열 concatenate(합치기)"
   ]
  },
  {
   "cell_type": "code",
   "execution_count": 2,
   "metadata": {},
   "outputs": [
    {
     "name": "stdout",
     "output_type": "stream",
     "text": [
      "array0: [1 2 3]\n",
      "array1: [4 5 6]\n",
      "concatenate: [1 2 3 4 5 6]\n"
     ]
    }
   ],
   "source": [
    "array0 = np.array([1, 2, 3]) # 1~3 배열 생성\n",
    "array1 = np.array([4, 5, 6]) # 4~6 배열 생성\n",
    "array2 = np.concatenate([array0, array1]) # array0과 array1을 합친 배열 생성\n",
    "\n",
    "print(\"array0:\", array0) # 생성한 배열 출력\n",
    "print(\"array1:\",array1) # 생성한 배열 출력\n",
    "print(\"concatenate:\",array2) # concatenate한 배열 출력"
   ]
  },
  {
   "cell_type": "markdown",
   "metadata": {},
   "source": [
    "1차원 -> 2차원변경"
   ]
  },
  {
   "cell_type": "code",
   "execution_count": 3,
   "metadata": {},
   "outputs": [
    {
     "name": "stdout",
     "output_type": "stream",
     "text": [
      "array0: \n",
      " [1 2 3 4]\n",
      "reshape: \n",
      " [[1 2]\n",
      " [3 4]]\n"
     ]
    }
   ],
   "source": [
    "array0 = np.array([1, 2, 3, 4]) # 1~4의 배열 생성\n",
    "array1 = array0.reshape((2, 2)) # 2x2배열로 재배치\n",
    "print(\"array0: \\n\",array0) # 생성한 배열 출력\n",
    "print(\"reshape: \\n\",array1) # reshape한 배열 출력"
   ]
  },
  {
   "cell_type": "markdown",
   "metadata": {},
   "source": [
    "x축을 기준으로 한 다차원 concatenate"
   ]
  },
  {
   "cell_type": "code",
   "execution_count": 4,
   "metadata": {},
   "outputs": [
    {
     "name": "stdout",
     "output_type": "stream",
     "text": [
      "array0: \n",
      " [[0 1 2 3]]\n",
      "array1: \n",
      " [[0 1 2 3]\n",
      " [4 5 6 7]]\n",
      "concatenate shape: \n",
      " (3, 4)\n",
      "concatenate: \n",
      " [[0 1 2 3]\n",
      " [0 1 2 3]\n",
      " [4 5 6 7]]\n"
     ]
    }
   ],
   "source": [
    "array0 = np.arange(4).reshape(1, 4) # 0~4의 배열 생성 후 1x4배열로 재배치\n",
    "array1 = np.arange(8).reshape(2, 4) # 0~8의 배열 생성 후 2x8배열로 재배치\n",
    "array2 = np.concatenate([array0, array1], axis=0) # array0와 array1을 x축을 기준으로 합친 배열 생성\n",
    "print(\"array0: \\n\",array0) # 생성한 배열 출력\n",
    "print(\"array1: \\n\",array1) # 생성한 배열 출력\n",
    "print(\"concatenate shape: \\n\",array2.shape) # concatenate한 배열의 형태 출력\n",
    "print(\"concatenate: \\n\",array2) # concatenate한 배열 출력"
   ]
  },
  {
   "cell_type": "markdown",
   "metadata": {},
   "source": [
    "y축을 기준으로한 다차원 split(분리)"
   ]
  },
  {
   "cell_type": "code",
   "execution_count": 5,
   "metadata": {},
   "outputs": [
    {
     "name": "stdout",
     "output_type": "stream",
     "text": [
      "array0: \n",
      " [[0 1 2 3]\n",
      " [4 5 6 7]]\n",
      "left shape: \n",
      " (2, 2)\n",
      "left: \n",
      " [[0 1]\n",
      " [4 5]]\n",
      "rigth shape: \n",
      " (2, 2)\n",
      "right: \n",
      " [[2 3]\n",
      " [6 7]]\n",
      "right (0, 0): \n",
      " 2\n",
      "right (1, 0): \n",
      " 6\n"
     ]
    }
   ],
   "source": [
    "array0 = np.arange(8).reshape(2, 4) # 0~8의 배열 생성 후 2x4배열로 재배치\n",
    "left, right = np.split(array0, [2], axis=1) # array0을 y축을 기준으로 분리한 배열 생성\n",
    "print(\"array0: \\n\",array0) # 생성한 배열 출력\n",
    "print(\"left shape: \\n\",left.shape) # 분리한 left의 형태 출력\n",
    "print(\"left: \\n\",left) # 분리한 left 배열 출력\n",
    "print(\"rigth shape: \\n\",right.shape) # 분리한 right의 형태 출력\n",
    "print(\"right: \\n\",right) # 분리한 right 배열 출력\n",
    "print(\"right (0, 0): \\n\",right[0][0]) # right의 (0, 0) 원소 출력\n",
    "print(\"right (1, 0): \\n\",right[1][0]) # right의 (1, 0) 원소 출력"
   ]
  },
  {
   "cell_type": "code",
   "execution_count": null,
   "metadata": {},
   "outputs": [],
   "source": []
  }
 ],
 "metadata": {
  "kernelspec": {
   "display_name": "Python 3",
   "language": "python",
   "name": "python3"
  },
  "language_info": {
   "codemirror_mode": {
    "name": "ipython",
    "version": 3
   },
   "file_extension": ".py",
   "mimetype": "text/x-python",
   "name": "python",
   "nbconvert_exporter": "python",
   "pygments_lexer": "ipython3",
   "version": "3.7.3"
  }
 },
 "nbformat": 4,
 "nbformat_minor": 2
}
