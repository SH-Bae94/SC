{
 "cells": [
  {
   "cell_type": "markdown",
   "metadata": {},
   "source": [
    "4. 저장 및 불러오기"
   ]
  },
  {
   "cell_type": "code",
   "execution_count": 1,
   "metadata": {},
   "outputs": [],
   "source": [
    "import numpy as np # numpy import 후 np로 약자 지정"
   ]
  },
  {
   "cell_type": "markdown",
   "metadata": {},
   "source": [
    "배열의 저장 및 불러오기"
   ]
  },
  {
   "cell_type": "code",
   "execution_count": 2,
   "metadata": {},
   "outputs": [
    {
     "name": "stdout",
     "output_type": "stream",
     "text": [
      "[0 1 2 3 4 5 6 7 8 9]\n"
     ]
    }
   ],
   "source": [
    "array0 = np.arange(0, 10) # 0~9의 배열 생성\n",
    "np.save('민머리.npy', array0) # array0를 민머리.npy로 저장\n",
    "x = np.load('민머리.npy') # 민머리.npy를 불러옴\n",
    "print(x) # 불러온 배열을 출력"
   ]
  },
  {
   "cell_type": "markdown",
   "metadata": {},
   "source": [
    "다중배열의 저장 및 불러오기"
   ]
  },
  {
   "cell_type": "code",
   "execution_count": 3,
   "metadata": {},
   "outputs": [
    {
     "name": "stdout",
     "output_type": "stream",
     "text": [
      "<numpy.lib.npyio.NpzFile object at 0x0000026A1E402390>\n",
      "[0 1 2 3 4 5 6 7 8 9]\n",
      "[10 11 12 13 14 15 16 17 18 19]\n"
     ]
    }
   ],
   "source": [
    "array0 = np.arange(0, 10) # 0~9의 배열 생성\n",
    "array1 = np.arange(10, 20) # 10~19의 배열 생성\n",
    "np.savez('예함대.npz', array0=array0, array1=array1) # array0와 array1을 예함대.npz로 다중배열 저장\n",
    "data = np.load('예함대.npz') # 예함대.npz를 불러옴\n",
    "x = data['array0'] # 다중배열 중 array0\n",
    "y = data['array1'] # 다중배열 중 array1\n",
    "print(data) # 불러온 다중배열을 출력\n",
    "print(x) # 다중배열 중 array0을 출력\n",
    "print(y) # 다중배열 중 array1을 출력"
   ]
  },
  {
   "cell_type": "markdown",
   "metadata": {},
   "source": [
    "배열의 오름차순"
   ]
  },
  {
   "cell_type": "code",
   "execution_count": 4,
   "metadata": {},
   "outputs": [
    {
     "name": "stdout",
     "output_type": "stream",
     "text": [
      "[1 2 4 8 9]\n"
     ]
    }
   ],
   "source": [
    "array0 = np.array([9, 2, 4, 1, 8]) # 9,2,4,1,8의 원소를 가진 배열 생성\n",
    "array0.sort() # 배열을 오름차순\n",
    "print(array0) # 오름차순한 배열을 출력"
   ]
  },
  {
   "cell_type": "markdown",
   "metadata": {},
   "source": [
    "배열의 내림차순"
   ]
  },
  {
   "cell_type": "code",
   "execution_count": 5,
   "metadata": {},
   "outputs": [
    {
     "name": "stdout",
     "output_type": "stream",
     "text": [
      "[9 8 4 2 1]\n"
     ]
    }
   ],
   "source": [
    "array0 = np.array([9, 2, 4, 1, 8]) # 9,2,4,1,8의 원소를 가진 배열 생성\n",
    "array0.sort() # 배열을 오름차순\n",
    "print(array0[::-1]) # 오름차순한 배열을 반전하여 내림차순으로 출력"
   ]
  },
  {
   "cell_type": "markdown",
   "metadata": {},
   "source": [
    "일정범위 데이터 생성"
   ]
  },
  {
   "cell_type": "code",
   "execution_count": 6,
   "metadata": {},
   "outputs": [
    {
     "name": "stdout",
     "output_type": "stream",
     "text": [
      "[0.   2.25 4.5  6.75 9.  ]\n"
     ]
    }
   ],
   "source": [
    "array0 = np.linspace(0, 9, 5) # 0부터9까지 5번의 동일한 간격으로 데이터 생성\n",
    "print(array0) # 생성한 배열 출력"
   ]
  },
  {
   "cell_type": "markdown",
   "metadata": {},
   "source": [
    "난수 생성"
   ]
  },
  {
   "cell_type": "code",
   "execution_count": 7,
   "metadata": {},
   "outputs": [
    {
     "name": "stdout",
     "output_type": "stream",
     "text": [
      "[[9 7 5]\n",
      " [3 5 8]]\n"
     ]
    }
   ],
   "source": [
    "print(np.random.randint(0, 10, (2, 3))) # 0~9의 난수 원소를 갖는 2x3배열을 생성"
   ]
  },
  {
   "cell_type": "markdown",
   "metadata": {},
   "source": [
    "n번째의 난수 재연"
   ]
  },
  {
   "cell_type": "code",
   "execution_count": 8,
   "metadata": {},
   "outputs": [
    {
     "name": "stdout",
     "output_type": "stream",
     "text": [
      "[[6 1 6]\n",
      " [5 5 9]]\n"
     ]
    }
   ],
   "source": [
    "np.random.seed(9999) # 9999번째의 난수 재연\n",
    "print(np.random.randint(0, 10, (2, 3))) # 0~9의 9999번째의 난수 원소를 갖는 2x3배열을 생성"
   ]
  },
  {
   "cell_type": "markdown",
   "metadata": {},
   "source": [
    "배열의 복사"
   ]
  },
  {
   "cell_type": "code",
   "execution_count": 9,
   "metadata": {},
   "outputs": [
    {
     "name": "stdout",
     "output_type": "stream",
     "text": [
      "[0 1 2 3 4 5 6 7 8 9]\n"
     ]
    }
   ],
   "source": [
    "array0 = np.arange(0, 10) # 0~9의 원소를 가진 배열 생성\n",
    "array1 = array0.copy() # 새로운 배열에 복사\n",
    "print(array1) # 복사된 배열을 출력"
   ]
  },
  {
   "cell_type": "markdown",
   "metadata": {},
   "source": [
    "배열의 중복된 원소 제거"
   ]
  },
  {
   "cell_type": "code",
   "execution_count": 10,
   "metadata": {},
   "outputs": [
    {
     "name": "stdout",
     "output_type": "stream",
     "text": [
      "[1 2 3]\n"
     ]
    }
   ],
   "source": [
    "array0 = np.array([1, 1, 2, 3, 3, 3, 1]) # 1,1,2,3,3,1의 원소를 가진 배열 생성\n",
    "print(np.unique(array0)) # 중복된 원소를 제거하여 출력"
   ]
  },
  {
   "cell_type": "code",
   "execution_count": null,
   "metadata": {},
   "outputs": [],
   "source": []
  }
 ],
 "metadata": {
  "kernelspec": {
   "display_name": "Python 3",
   "language": "python",
   "name": "python3"
  },
  "language_info": {
   "codemirror_mode": {
    "name": "ipython",
    "version": 3
   },
   "file_extension": ".py",
   "mimetype": "text/x-python",
   "name": "python",
   "nbconvert_exporter": "python",
   "pygments_lexer": "ipython3",
   "version": "3.7.3"
  }
 },
 "nbformat": 4,
 "nbformat_minor": 2
}
